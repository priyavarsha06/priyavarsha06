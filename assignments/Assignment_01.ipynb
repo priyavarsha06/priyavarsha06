{
  "cells": [
    {
      "cell_type": "markdown",
      "metadata": {
        "id": "view-in-github",
        "colab_type": "text"
      },
      "source": [
        "<a href=\"https://colab.research.google.com/github/priyavarsha06/priyavarsha06/blob/main/assignments/Assignment_01.ipynb\" target=\"_parent\"><img src=\"https://colab.research.google.com/assets/colab-badge.svg\" alt=\"Open In Colab\"/></a>"
      ]
    },
    {
      "cell_type": "markdown",
      "id": "548b84c2-e24f-4a12-98bb-5e7bd5ec86bd",
      "metadata": {
        "id": "548b84c2-e24f-4a12-98bb-5e7bd5ec86bd"
      },
      "source": [
        "# Python"
      ]
    },
    {
      "cell_type": "code",
      "source": [],
      "metadata": {
        "id": "2ZIvOad-C5BX"
      },
      "id": "2ZIvOad-C5BX",
      "execution_count": null,
      "outputs": []
    },
    {
      "cell_type": "markdown",
      "id": "99fbfc45-ba9e-4766-8219-f5dbcacc8481",
      "metadata": {
        "id": "99fbfc45-ba9e-4766-8219-f5dbcacc8481"
      },
      "source": [
        "<a target=\"_blank\" href=\"https://colab.research.google.com/github/kgsb24/rishi-college/blob/main/assignments/Assignment_01.ipynb\">\n",
        "  <img src=\"https://colab.research.google.com/assets/colab-badge.svg\" alt=\"Open In Colab\"/>\n",
        "</a>"
      ]
    },
    {
      "cell_type": "markdown",
      "id": "07a1f870-f905-4703-8b65-12e83172133a",
      "metadata": {
        "id": "07a1f870-f905-4703-8b65-12e83172133a"
      },
      "source": [
        "## Basic Python Fundamentals"
      ]
    },
    {
      "cell_type": "code",
      "execution_count": null,
      "id": "502e1d87-2fdd-4588-a330-2af21268215e",
      "metadata": {
        "id": "502e1d87-2fdd-4588-a330-2af21268215e"
      },
      "outputs": [],
      "source": [
        "# Write a Python program to declare a variable x with the value 10 and print its type."
      ]
    },
    {
      "cell_type": "code",
      "source": [
        "x=10\n",
        "type(x)"
      ],
      "metadata": {
        "colab": {
          "base_uri": "https://localhost:8080/"
        },
        "id": "kp21aoegAn1I",
        "outputId": "24c148d3-bb10-4f79-8a8b-f0ddd7091596"
      },
      "id": "kp21aoegAn1I",
      "execution_count": null,
      "outputs": [
        {
          "output_type": "execute_result",
          "data": {
            "text/plain": [
              "int"
            ]
          },
          "metadata": {},
          "execution_count": 1
        }
      ]
    },
    {
      "cell_type": "code",
      "execution_count": null,
      "id": "dae77579-4b7d-4f06-96e0-7bdfe43860d7",
      "metadata": {
        "id": "dae77579-4b7d-4f06-96e0-7bdfe43860d7"
      },
      "outputs": [],
      "source": [
        "# Write a Python program to declare three variables a = 5, b = 10, and c = 15, and print their sum."
      ]
    },
    {
      "cell_type": "code",
      "source": [
        "a=5\n",
        "b=10\n",
        "c=15\n",
        "a+b+c"
      ],
      "metadata": {
        "colab": {
          "base_uri": "https://localhost:8080/"
        },
        "id": "-T8GYlISmIcW",
        "outputId": "1c739995-43d4-4d65-8a75-bfb73bad3615"
      },
      "id": "-T8GYlISmIcW",
      "execution_count": null,
      "outputs": [
        {
          "output_type": "execute_result",
          "data": {
            "text/plain": [
              "30"
            ]
          },
          "metadata": {},
          "execution_count": 2
        }
      ]
    },
    {
      "cell_type": "code",
      "execution_count": null,
      "id": "c32867b2-a615-426a-89ae-bd2793b6a4dc",
      "metadata": {
        "id": "c32867b2-a615-426a-89ae-bd2793b6a4dc"
      },
      "outputs": [],
      "source": [
        "# Write a Python program that checks and prints the type of a variable (e.g., int, float, str, etc.)."
      ]
    },
    {
      "cell_type": "code",
      "source": [
        "x=\"priya\"\n",
        "type(x)"
      ],
      "metadata": {
        "colab": {
          "base_uri": "https://localhost:8080/"
        },
        "id": "GKS_EGA8mrug",
        "outputId": "98854bd2-fa67-4740-c58a-6f29a085ee5d"
      },
      "id": "GKS_EGA8mrug",
      "execution_count": null,
      "outputs": [
        {
          "output_type": "execute_result",
          "data": {
            "text/plain": [
              "str"
            ]
          },
          "metadata": {},
          "execution_count": 3
        }
      ]
    },
    {
      "cell_type": "code",
      "execution_count": null,
      "id": "8b233e41-9d44-4869-9ead-afb3ff1c0b67",
      "metadata": {
        "id": "8b233e41-9d44-4869-9ead-afb3ff1c0b67"
      },
      "outputs": [],
      "source": [
        "# Write a Python program to perform addition, subtraction, multiplication, and division on two numbers. (User input is required for the numbers)"
      ]
    },
    {
      "cell_type": "code",
      "source": [
        "x=int(input(\"enter the first number: \"))\n",
        "y=int(input(\"enter the second number: \"))\n",
        "print(x+y)\n",
        "print(x-y)\n",
        "print(x*y)\n",
        "print(x/y)\n"
      ],
      "metadata": {
        "colab": {
          "base_uri": "https://localhost:8080/"
        },
        "id": "4avuldj2rKV2",
        "outputId": "acf10205-6af0-4f75-91b6-096ee92825f3"
      },
      "id": "4avuldj2rKV2",
      "execution_count": null,
      "outputs": [
        {
          "output_type": "stream",
          "name": "stdout",
          "text": [
            "enter the first number: 6\n",
            "enter the second number: 12\n",
            "18\n",
            "-6\n",
            "72\n",
            "0.5\n"
          ]
        }
      ]
    },
    {
      "cell_type": "code",
      "execution_count": null,
      "id": "629435bd-6bfa-44de-91d9-3b2937713257",
      "metadata": {
        "id": "629435bd-6bfa-44de-91d9-3b2937713257"
      },
      "outputs": [],
      "source": [
        "# Write a Python program to convert a string \"123\" to an integer and a float and print the results."
      ]
    },
    {
      "cell_type": "code",
      "source": [
        "x=\"123\"\n",
        "print(int(x))\n",
        "print(float(x))"
      ],
      "metadata": {
        "colab": {
          "base_uri": "https://localhost:8080/"
        },
        "id": "8GSRfw3CtoAz",
        "outputId": "94093521-4914-4598-a9c8-aaa0324856e0"
      },
      "id": "8GSRfw3CtoAz",
      "execution_count": null,
      "outputs": [
        {
          "output_type": "stream",
          "name": "stdout",
          "text": [
            "123\n",
            "123.0\n"
          ]
        }
      ]
    },
    {
      "cell_type": "code",
      "execution_count": null,
      "id": "599421f1-51c1-4653-9d78-b007fcc6861b",
      "metadata": {
        "id": "599421f1-51c1-4653-9d78-b007fcc6861b"
      },
      "outputs": [],
      "source": [
        "# Write a Python program to print the first character of a given string. (User input for the string)"
      ]
    },
    {
      "cell_type": "code",
      "source": [
        "x=input(\"enter the string:\")\n",
        "x[0]\n"
      ],
      "metadata": {
        "colab": {
          "base_uri": "https://localhost:8080/",
          "height": 53
        },
        "id": "_c6ipf-guF8p",
        "outputId": "63d05baa-3031-4f8e-f811-9ff2a318bafe"
      },
      "id": "_c6ipf-guF8p",
      "execution_count": null,
      "outputs": [
        {
          "name": "stdout",
          "output_type": "stream",
          "text": [
            "enter the string:priya\n"
          ]
        },
        {
          "output_type": "execute_result",
          "data": {
            "text/plain": [
              "'p'"
            ],
            "application/vnd.google.colaboratory.intrinsic+json": {
              "type": "string"
            }
          },
          "metadata": {},
          "execution_count": 7
        }
      ]
    },
    {
      "cell_type": "code",
      "execution_count": null,
      "id": "54ee0a5d-415f-40b6-b82e-c0de12a002f9",
      "metadata": {
        "id": "54ee0a5d-415f-40b6-b82e-c0de12a002f9"
      },
      "outputs": [],
      "source": [
        "# Write a Python program to print the length of a string. (User input for the string)"
      ]
    },
    {
      "cell_type": "code",
      "source": [
        "x=input(\"enter the string:\")\n",
        "len(x)"
      ],
      "metadata": {
        "colab": {
          "base_uri": "https://localhost:8080/"
        },
        "id": "o1GMj60-w6Kf",
        "outputId": "197775b1-580e-471e-f364-dc649ef4d3ce"
      },
      "id": "o1GMj60-w6Kf",
      "execution_count": null,
      "outputs": [
        {
          "name": "stdout",
          "output_type": "stream",
          "text": [
            "enter the string:priya\n"
          ]
        },
        {
          "output_type": "execute_result",
          "data": {
            "text/plain": [
              "5"
            ]
          },
          "metadata": {},
          "execution_count": 8
        }
      ]
    },
    {
      "cell_type": "code",
      "execution_count": null,
      "id": "65f44c33-618e-4337-a9d1-9de888c93a0a",
      "metadata": {
        "id": "65f44c33-618e-4337-a9d1-9de888c93a0a"
      },
      "outputs": [],
      "source": [
        "# Write a Python program to check if a given string contains only alphabets."
      ]
    },
    {
      "cell_type": "code",
      "source": [
        "x=input(\"enter the string:\")\n",
        "x.isalpha()\n"
      ],
      "metadata": {
        "colab": {
          "base_uri": "https://localhost:8080/"
        },
        "id": "YshU0ezYxIYB",
        "outputId": "9e999e32-f57a-4994-a447-ca32665dd25d"
      },
      "id": "YshU0ezYxIYB",
      "execution_count": null,
      "outputs": [
        {
          "name": "stdout",
          "output_type": "stream",
          "text": [
            "enter the string:priya20\n"
          ]
        },
        {
          "output_type": "execute_result",
          "data": {
            "text/plain": [
              "False"
            ]
          },
          "metadata": {},
          "execution_count": 10
        }
      ]
    },
    {
      "cell_type": "code",
      "execution_count": null,
      "id": "37463128-2b51-4860-b6bf-40d3c03fbe84",
      "metadata": {
        "id": "37463128-2b51-4860-b6bf-40d3c03fbe84"
      },
      "outputs": [],
      "source": [
        "# Write a Python program to concatenate two strings. (User input for the strings)"
      ]
    },
    {
      "cell_type": "code",
      "source": [
        "x=input(\"enter the first string:\")\n",
        "y=input(\"enter the second string:\")\n",
        "x+y"
      ],
      "metadata": {
        "colab": {
          "base_uri": "https://localhost:8080/",
          "height": 70
        },
        "id": "gTe3-QlDxePB",
        "outputId": "3aa4d386-9956-4d06-ac8b-157649db1fda"
      },
      "id": "gTe3-QlDxePB",
      "execution_count": null,
      "outputs": [
        {
          "name": "stdout",
          "output_type": "stream",
          "text": [
            "enter the first string:priya\n",
            "enter the second string:varsha\n"
          ]
        },
        {
          "output_type": "execute_result",
          "data": {
            "text/plain": [
              "'priyavarsha'"
            ],
            "application/vnd.google.colaboratory.intrinsic+json": {
              "type": "string"
            }
          },
          "metadata": {},
          "execution_count": 11
        }
      ]
    },
    {
      "cell_type": "code",
      "execution_count": null,
      "id": "b1c5d364-eccf-473a-b03a-ab15f3e917cf",
      "metadata": {
        "id": "b1c5d364-eccf-473a-b03a-ab15f3e917cf"
      },
      "outputs": [],
      "source": [
        "# Write a Python program to find the index of a substring \"abc\" in a string. (User input for the string)"
      ]
    },
    {
      "cell_type": "code",
      "source": [
        "x=input(\"enter the string:\")\n",
        "subs=\"abc\"\n",
        "x.find(subs)"
      ],
      "metadata": {
        "colab": {
          "base_uri": "https://localhost:8080/"
        },
        "id": "ZMivJsmuyAYa",
        "outputId": "f09192e3-dec2-4fa2-d9cf-a5b8bbafcb1f"
      },
      "id": "ZMivJsmuyAYa",
      "execution_count": null,
      "outputs": [
        {
          "name": "stdout",
          "output_type": "stream",
          "text": [
            "enter the string:lkjhgfabs\n"
          ]
        },
        {
          "output_type": "execute_result",
          "data": {
            "text/plain": [
              "-1"
            ]
          },
          "metadata": {},
          "execution_count": 13
        }
      ]
    },
    {
      "cell_type": "code",
      "execution_count": null,
      "id": "cc92afd9-ba4b-4934-a79d-f26825b4efc2",
      "metadata": {
        "id": "cc92afd9-ba4b-4934-a79d-f26825b4efc2"
      },
      "outputs": [],
      "source": [
        "# Write a Python program to convert a string to both uppercase and lowercase. (User input for the string)"
      ]
    },
    {
      "cell_type": "code",
      "source": [
        "x=input(\"enter the string:\")\n",
        "print(\"uppercase:\",x. upper())\n",
        "print(\"lower:\", x.lower())"
      ],
      "metadata": {
        "colab": {
          "base_uri": "https://localhost:8080/"
        },
        "id": "2xlMGxtEzG4Y",
        "outputId": "2e86980f-3a85-4b31-84ac-46c8b52d2b23"
      },
      "id": "2xlMGxtEzG4Y",
      "execution_count": null,
      "outputs": [
        {
          "output_type": "stream",
          "name": "stdout",
          "text": [
            "enter the string:priya varsha\n",
            "uppercase: PRIYA VARSHA\n",
            "lower: priya varsha\n"
          ]
        }
      ]
    },
    {
      "cell_type": "code",
      "execution_count": null,
      "id": "f24f79b3-da8b-44bf-8310-c68442e86e3e",
      "metadata": {
        "id": "f24f79b3-da8b-44bf-8310-c68442e86e3e"
      },
      "outputs": [],
      "source": [
        "# Write a Python program to count how many times a particular character appears in a string. (User input for string and character)"
      ]
    },
    {
      "cell_type": "code",
      "source": [
        "x=input(\"enter the string:\")\n",
        "y=input(\"enter the character:\")\n",
        "x.count(y)"
      ],
      "metadata": {
        "colab": {
          "base_uri": "https://localhost:8080/"
        },
        "id": "e6MtmAStz64C",
        "outputId": "775786ab-7c83-4bf3-e5b0-2989731c6bac"
      },
      "id": "e6MtmAStz64C",
      "execution_count": null,
      "outputs": [
        {
          "name": "stdout",
          "output_type": "stream",
          "text": [
            "enter the string:priya varsha\n",
            "enter the character:a\n"
          ]
        },
        {
          "output_type": "execute_result",
          "data": {
            "text/plain": [
              "3"
            ]
          },
          "metadata": {},
          "execution_count": 19
        }
      ]
    },
    {
      "cell_type": "code",
      "execution_count": null,
      "id": "f2e8f25c-5c34-44eb-b749-7cc4c100b9a8",
      "metadata": {
        "id": "f2e8f25c-5c34-44eb-b749-7cc4c100b9a8"
      },
      "outputs": [],
      "source": [
        "# Write a Python program to take the user's name as input and print a personalized greeting. (Hello, username, Good Morning)"
      ]
    },
    {
      "cell_type": "code",
      "source": [
        "x=input(\"enter your name: \")\n",
        "print(f\"hello, {x}, good morning!\")\n"
      ],
      "metadata": {
        "colab": {
          "base_uri": "https://localhost:8080/"
        },
        "id": "4kZyrT0z1xvt",
        "outputId": "7e3c540b-3184-467a-a2ce-3ae80e7a9418"
      },
      "id": "4kZyrT0z1xvt",
      "execution_count": null,
      "outputs": [
        {
          "output_type": "stream",
          "name": "stdout",
          "text": [
            "enter your name: priya\n",
            "hello, priya, good morning!\n"
          ]
        }
      ]
    },
    {
      "cell_type": "code",
      "execution_count": null,
      "id": "189296cf-77e6-4f48-b010-77458da5bc9d",
      "metadata": {
        "id": "189296cf-77e6-4f48-b010-77458da5bc9d"
      },
      "outputs": [],
      "source": [
        "# Write a Python program to take two numbers as input and print their sum."
      ]
    },
    {
      "cell_type": "code",
      "source": [
        "x=int(input(\"enter the first number:\"))\n",
        "y=int(input(\"enter the second number:\"))\n",
        "x+y"
      ],
      "metadata": {
        "colab": {
          "base_uri": "https://localhost:8080/"
        },
        "id": "Hp18Sb3q3zfs",
        "outputId": "2b5efdb8-e4cd-4943-d286-c8a9c56d00ac"
      },
      "id": "Hp18Sb3q3zfs",
      "execution_count": null,
      "outputs": [
        {
          "name": "stdout",
          "output_type": "stream",
          "text": [
            "enter the first number:8\n",
            "enter the second number:9\n"
          ]
        },
        {
          "output_type": "execute_result",
          "data": {
            "text/plain": [
              "17"
            ]
          },
          "metadata": {},
          "execution_count": 23
        }
      ]
    },
    {
      "cell_type": "code",
      "execution_count": null,
      "id": "0563b26c-0218-47b8-9035-98beb73b0931",
      "metadata": {
        "id": "0563b26c-0218-47b8-9035-98beb73b0931"
      },
      "outputs": [],
      "source": [
        "#Write a Python program to  format and display a string containing the user's name and age. (User input required)"
      ]
    },
    {
      "cell_type": "code",
      "source": [
        "x=input(\"enter the your name:\")\n",
        "y=int(input(\"enter your age:\"))\n",
        "print(f\"{x} is {y} years old.\")"
      ],
      "metadata": {
        "colab": {
          "base_uri": "https://localhost:8080/"
        },
        "id": "PoTBuHIt5qnv",
        "outputId": "0af84773-d99b-491a-8b03-de843f7a85f3"
      },
      "id": "PoTBuHIt5qnv",
      "execution_count": null,
      "outputs": [
        {
          "output_type": "stream",
          "name": "stdout",
          "text": [
            "enter the your name:priya\n",
            "enter your age:20\n",
            "priya is 20 years old.\n"
          ]
        }
      ]
    },
    {
      "cell_type": "markdown",
      "id": "0bde6e5a-0415-4b06-8b5a-95fa252b34eb",
      "metadata": {
        "id": "0bde6e5a-0415-4b06-8b5a-95fa252b34eb"
      },
      "source": [
        "## Control Structures (Conditionals and Loops)"
      ]
    },
    {
      "cell_type": "code",
      "execution_count": null,
      "id": "aefff5f3-b61e-43e6-a458-7367ef1af9de",
      "metadata": {
        "id": "aefff5f3-b61e-43e6-a458-7367ef1af9de"
      },
      "outputs": [],
      "source": [
        "# Write a Python program that takes a number as input and checks whether it is positive, negative, or zero."
      ]
    },
    {
      "cell_type": "code",
      "source": [
        "x=float(input(\"enter the value\"))\n",
        "if x > 0:\n",
        "  print(\"the value is positive\")\n",
        "elif x < 0:\n",
        "  print(\"the value is negitive\")\n",
        "else:\n",
        "  print(\"the value is zero\")\n"
      ],
      "metadata": {
        "colab": {
          "base_uri": "https://localhost:8080/"
        },
        "id": "R0HS5yNO6e2D",
        "outputId": "c40fdddd-cc75-44ac-8447-77310e04fd08"
      },
      "id": "R0HS5yNO6e2D",
      "execution_count": null,
      "outputs": [
        {
          "output_type": "stream",
          "name": "stdout",
          "text": [
            "enter the value-9\n",
            "the value is negitive\n"
          ]
        }
      ]
    },
    {
      "cell_type": "code",
      "execution_count": null,
      "id": "4dc6d14b-6d22-4348-859a-2a03f9be65f7",
      "metadata": {
        "id": "4dc6d14b-6d22-4348-859a-2a03f9be65f7"
      },
      "outputs": [],
      "source": [
        "# Write a Python program to find the maximum of three numbers. (User input for the numbers)"
      ]
    },
    {
      "cell_type": "code",
      "source": [
        "x=int(input(\"enter the first numeber:\"))\n",
        "y=int(input(\"enter the second number:\"))\n",
        "z=int(input(\"enter the third number:\"))\n",
        "if x>y and x<z:\n",
        "  print(x, \"is the maximum number\")\n",
        "elif(y>x and y>z):\n",
        "  print(y, \"is the maximum number\")\n",
        "else:\n",
        "  print(z, \"is the maximum number\")"
      ],
      "metadata": {
        "id": "vAQcfE6aFcYW",
        "outputId": "a2f32cd5-3873-4e91-bd23-2355e1a289ce",
        "colab": {
          "base_uri": "https://localhost:8080/"
        }
      },
      "id": "vAQcfE6aFcYW",
      "execution_count": null,
      "outputs": [
        {
          "output_type": "stream",
          "name": "stdout",
          "text": [
            "enter the first numeber:3\n",
            "enter the second number:4\n",
            "enter the third number:5\n",
            "5 is the maximum number\n"
          ]
        }
      ]
    },
    {
      "cell_type": "code",
      "execution_count": null,
      "id": "3f6d1f45-eb68-4142-89d6-510046f21879",
      "metadata": {
        "id": "3f6d1f45-eb68-4142-89d6-510046f21879"
      },
      "outputs": [],
      "source": [
        "# Write a Python program to check if a year is a leap year. (User input for the year)"
      ]
    },
    {
      "cell_type": "code",
      "source": [
        "year = int(input(\"Enter a year: \"))\n",
        "\n",
        "if (year % 4 == 0 and year % 100 != 0):\n",
        "    print(f\"{year} is a leap year\")\n",
        "else:\n",
        "    print(f\"{year} is not a leap year\")"
      ],
      "metadata": {
        "id": "gHF_ep-MXGFs",
        "outputId": "4f256ebe-5774-4042-827f-059f3ce62ac0",
        "colab": {
          "base_uri": "https://localhost:8080/"
        }
      },
      "id": "gHF_ep-MXGFs",
      "execution_count": null,
      "outputs": [
        {
          "output_type": "stream",
          "name": "stdout",
          "text": [
            "Enter a year: 2005\n",
            "2005 is not a leap year\n"
          ]
        }
      ]
    },
    {
      "cell_type": "code",
      "execution_count": null,
      "id": "b6a07105-6fa5-4f70-b64b-ebd66afc3c2b",
      "metadata": {
        "id": "b6a07105-6fa5-4f70-b64b-ebd66afc3c2b"
      },
      "outputs": [],
      "source": [
        "# Write a Python program to check if a number is divisible by both 3 and 5. (User input for the number)"
      ]
    },
    {
      "cell_type": "code",
      "source": [
        "x= int(input(\"enter a number:\"))\n",
        "if x % 3 ==0 and x%5==0:\n",
        "  print(x, \"is divisible by both 3 and 5\")\n",
        "else:\n",
        "  print(x,\"is not divisble by 3 and 5\")"
      ],
      "metadata": {
        "id": "2VeP1twRXeUS",
        "outputId": "b53f1b7a-178c-4b12-efe5-77852c03e019",
        "colab": {
          "base_uri": "https://localhost:8080/"
        }
      },
      "id": "2VeP1twRXeUS",
      "execution_count": null,
      "outputs": [
        {
          "output_type": "stream",
          "name": "stdout",
          "text": [
            "enter a number:34\n",
            "34 is not divisble by 3 and 5\n"
          ]
        }
      ]
    },
    {
      "cell_type": "code",
      "execution_count": null,
      "id": "d10c9005-b85d-42f9-81d0-65d149415888",
      "metadata": {
        "id": "d10c9005-b85d-42f9-81d0-65d149415888"
      },
      "outputs": [],
      "source": [
        "# Write a Python program to check if a string is a palindrome. (User input for the string)"
      ]
    },
    {
      "cell_type": "code",
      "source": [
        "x=input(\"enter the string:\")\n",
        "y=x[::-1]\n",
        "if x==y:\n",
        "  print(\"x is a palindrome\")\n",
        "else:\n",
        "  print(\"x is not a palindrome\")"
      ],
      "metadata": {
        "id": "mbeNh-c2YZsq",
        "outputId": "6ae235f7-8672-4d3a-8f9d-52269c4221fe",
        "colab": {
          "base_uri": "https://localhost:8080/"
        }
      },
      "id": "mbeNh-c2YZsq",
      "execution_count": null,
      "outputs": [
        {
          "output_type": "stream",
          "name": "stdout",
          "text": [
            "enter the string:madam\n",
            "x is a palindrome\n"
          ]
        }
      ]
    },
    {
      "cell_type": "code",
      "execution_count": null,
      "id": "82d76cdf-efc6-45c6-ab09-9d1f17b3d857",
      "metadata": {
        "id": "82d76cdf-efc6-45c6-ab09-9d1f17b3d857"
      },
      "outputs": [],
      "source": [
        "# Write a Python program to print numbers from 1 to 10 using a for loop."
      ]
    },
    {
      "cell_type": "code",
      "source": [
        "for i in range(1,11):\n",
        "   print(i)"
      ],
      "metadata": {
        "id": "NlGjF9zzaJXG",
        "outputId": "4ac3dedf-5dbd-42f1-ab85-80688117dcbe",
        "colab": {
          "base_uri": "https://localhost:8080/"
        }
      },
      "id": "NlGjF9zzaJXG",
      "execution_count": null,
      "outputs": [
        {
          "output_type": "stream",
          "name": "stdout",
          "text": [
            "1\n",
            "2\n",
            "3\n",
            "4\n",
            "5\n",
            "6\n",
            "7\n",
            "8\n",
            "9\n",
            "10\n"
          ]
        }
      ]
    },
    {
      "cell_type": "code",
      "execution_count": null,
      "id": "d09e8994-e984-4c12-ab1e-1bfc6938a389",
      "metadata": {
        "id": "d09e8994-e984-4c12-ab1e-1bfc6938a389"
      },
      "outputs": [],
      "source": [
        "# Write a Python program to print all even numbers from 1 to 20 using a while loop."
      ]
    },
    {
      "cell_type": "code",
      "source": [
        "for i in range(1,20,2):\n",
        "    print(i)"
      ],
      "metadata": {
        "id": "9gK4Oh0RasmD",
        "outputId": "cf065020-3ddd-439a-82b1-6065a420f59f",
        "colab": {
          "base_uri": "https://localhost:8080/"
        }
      },
      "id": "9gK4Oh0RasmD",
      "execution_count": null,
      "outputs": [
        {
          "output_type": "stream",
          "name": "stdout",
          "text": [
            "1\n",
            "3\n",
            "5\n",
            "7\n",
            "9\n",
            "11\n",
            "13\n",
            "15\n",
            "17\n",
            "19\n"
          ]
        }
      ]
    },
    {
      "cell_type": "code",
      "source": [
        "i=2\n",
        "while i<=20:\n",
        "  print(i)\n",
        "  i+=2\n"
      ],
      "metadata": {
        "id": "Pc9RZC2Mba6a",
        "outputId": "aa742277-7834-4a8a-d1d8-7ceff9cc2401",
        "colab": {
          "base_uri": "https://localhost:8080/"
        }
      },
      "id": "Pc9RZC2Mba6a",
      "execution_count": null,
      "outputs": [
        {
          "output_type": "stream",
          "name": "stdout",
          "text": [
            "2\n",
            "4\n",
            "6\n",
            "8\n",
            "10\n",
            "12\n",
            "14\n",
            "16\n",
            "18\n",
            "20\n"
          ]
        }
      ]
    },
    {
      "cell_type": "code",
      "execution_count": null,
      "id": "c09ca878-167e-49ca-97f0-247a43c9b472",
      "metadata": {
        "id": "c09ca878-167e-49ca-97f0-247a43c9b472"
      },
      "outputs": [],
      "source": [
        "# Write a Python program to print the multiplication table of a given number using a for loop. (User input for the number)"
      ]
    },
    {
      "cell_type": "code",
      "source": [
        "x=int(input(\"enter the number:\"))\n",
        "for i in range(1,11):\n",
        "  print(x, \"*\", i ,\"=\", x*i)"
      ],
      "metadata": {
        "id": "xAAMOwDkenA-",
        "outputId": "21a9b7fe-c42f-4b0a-abb1-9031c1c2d6ae",
        "colab": {
          "base_uri": "https://localhost:8080/"
        }
      },
      "id": "xAAMOwDkenA-",
      "execution_count": null,
      "outputs": [
        {
          "output_type": "stream",
          "name": "stdout",
          "text": [
            "enter the number:3\n",
            "3 * 1 = 3\n",
            "3 * 2 = 6\n",
            "3 * 3 = 9\n",
            "3 * 4 = 12\n",
            "3 * 5 = 15\n",
            "3 * 6 = 18\n",
            "3 * 7 = 21\n",
            "3 * 8 = 24\n",
            "3 * 9 = 27\n",
            "3 * 10 = 30\n"
          ]
        }
      ]
    },
    {
      "cell_type": "code",
      "execution_count": null,
      "id": "b72118ab-e62d-4af9-bcec-e1cc6af31b25",
      "metadata": {
        "id": "b72118ab-e62d-4af9-bcec-e1cc6af31b25"
      },
      "outputs": [],
      "source": [
        "# Write a Python program to calculate the sum of all numbers from 1 to n using a while loop. (User input for n)"
      ]
    },
    {
      "cell_type": "code",
      "source": [
        "x=int(input(\"enter a positive integer: \"))\n",
        "y=0\n",
        "z=1\n",
        "while z<=x:\n",
        "  y=y+z\n",
        "  z=z+1\n",
        "print(\"the sum of numbers from 1 to\", x , \"is\",y)\n"
      ],
      "metadata": {
        "id": "tJzG6ixVfoQz",
        "outputId": "e9e6bbd5-85e2-435a-9c68-95ca49b8aa5c",
        "colab": {
          "base_uri": "https://localhost:8080/"
        }
      },
      "id": "tJzG6ixVfoQz",
      "execution_count": null,
      "outputs": [
        {
          "output_type": "stream",
          "name": "stdout",
          "text": [
            "enter a positive integer: 5\n",
            "the sum of numbers from 1 to 5 is 15\n"
          ]
        }
      ]
    },
    {
      "cell_type": "code",
      "execution_count": null,
      "id": "ae93621f-11a2-40b7-97bc-3002f03ac36a",
      "metadata": {
        "id": "ae93621f-11a2-40b7-97bc-3002f03ac36a"
      },
      "outputs": [],
      "source": [
        "# Write a Python program to calculate the factorial of a number using a while loop. (User input for the number)"
      ]
    },
    {
      "cell_type": "code",
      "source": [
        "x=int(input(\"enter a positive number\"))\n",
        "y=1\n",
        "z=1\n",
        "while z<=x:\n",
        "  y=y*z\n",
        "  z=z+1\n",
        "print(\"the factorial of\",x, \"is \", y)"
      ],
      "metadata": {
        "id": "m-r8-DcUjNcF",
        "outputId": "8e31d7aa-a54d-40f7-871a-8d8c503f77af",
        "colab": {
          "base_uri": "https://localhost:8080/"
        }
      },
      "id": "m-r8-DcUjNcF",
      "execution_count": null,
      "outputs": [
        {
          "output_type": "stream",
          "name": "stdout",
          "text": [
            "enter a positive number4\n",
            "the factorial of 4 is  24\n"
          ]
        }
      ]
    },
    {
      "cell_type": "code",
      "execution_count": null,
      "id": "68467ccc-d696-4ef1-84c4-164c9d87f755",
      "metadata": {
        "id": "68467ccc-d696-4ef1-84c4-164c9d87f755"
      },
      "outputs": [],
      "source": [
        "# Write a Python program to print the Fibonacci sequence up to n terms. (User input for n)"
      ]
    },
    {
      "cell_type": "code",
      "source": [
        "\n",
        "n = int(input(\"Enter the number of terms: \"))\n",
        "a, b = 0, 1\n",
        "\n",
        "# Print the Fibonacci sequence\n",
        "for _ in range(n):\n",
        "  print(a, end=\" \")\n",
        "  a, b = b, a + b"
      ],
      "metadata": {
        "id": "9P0AEfggkuQZ",
        "outputId": "417dd38b-f303-4c61-f4ed-f8de0fddd3d7",
        "colab": {
          "base_uri": "https://localhost:8080/"
        }
      },
      "id": "9P0AEfggkuQZ",
      "execution_count": null,
      "outputs": [
        {
          "output_type": "stream",
          "name": "stdout",
          "text": [
            "Enter the number of terms: 5\n",
            "0 1 1 2 3 "
          ]
        }
      ]
    },
    {
      "cell_type": "code",
      "execution_count": null,
      "id": "5bebd1f3-2606-4102-aa55-01cb1650f632",
      "metadata": {
        "id": "5bebd1f3-2606-4102-aa55-01cb1650f632"
      },
      "outputs": [],
      "source": [
        "# Write a Python program to find all the prime numbers from 1 to 100."
      ]
    },
    {
      "cell_type": "code",
      "source": [
        "print(\"Prime numbers from 1 to 100:\")\n",
        "for num in range(2, 101):\n",
        "    is_prime = True\n",
        "    for i in range(2, int(num**0.5) + 1):\n",
        "        if num % i == 0:\n",
        "            is_prime = False\n",
        "            break\n",
        "    if is_prime:\n",
        "        print(num, end=\" \")"
      ],
      "metadata": {
        "id": "VsmfxME5k0yw",
        "outputId": "2d6f1aa0-18e6-4ccb-d3a2-5117bfde5f39",
        "colab": {
          "base_uri": "https://localhost:8080/"
        }
      },
      "id": "VsmfxME5k0yw",
      "execution_count": null,
      "outputs": [
        {
          "output_type": "stream",
          "name": "stdout",
          "text": [
            "Prime numbers from 1 to 100:\n",
            "2 3 5 7 11 13 17 19 23 29 31 37 41 43 47 53 59 61 67 71 73 79 83 89 97 "
          ]
        }
      ]
    },
    {
      "cell_type": "code",
      "execution_count": null,
      "id": "0a3f894e-52ba-4c0b-9158-a70f31f4fd49",
      "metadata": {
        "id": "0a3f894e-52ba-4c0b-9158-a70f31f4fd49"
      },
      "outputs": [],
      "source": [
        "# Write a Python program that breaks out of a loop when a specific condition is met (e.g., when a number greater than 50 is found)."
      ]
    },
    {
      "cell_type": "code",
      "source": [
        "for i in range(1, 100):\n",
        "    if i > 50:\n",
        "        print(f\"Breaking out of the loop at {i}\")\n",
        "        break\n",
        "    print(i)\n",
        "i = 1\n",
        "while i < 100:\n",
        "    if i > 50:\n",
        "        print(f\"Breaking out of the loop at {i}\")\n",
        "        break\n",
        "    print(i)\n",
        "    i += 1"
      ],
      "metadata": {
        "id": "dkxunyr_N6ej",
        "outputId": "e0b8b9c1-0e6d-41cf-f011-92f5afa0bb8f",
        "colab": {
          "base_uri": "https://localhost:8080/"
        }
      },
      "id": "dkxunyr_N6ej",
      "execution_count": null,
      "outputs": [
        {
          "output_type": "stream",
          "name": "stdout",
          "text": [
            "1\n",
            "2\n",
            "3\n",
            "4\n",
            "5\n",
            "6\n",
            "7\n",
            "8\n",
            "9\n",
            "10\n",
            "11\n",
            "12\n",
            "13\n",
            "14\n",
            "15\n",
            "16\n",
            "17\n",
            "18\n",
            "19\n",
            "20\n",
            "21\n",
            "22\n",
            "23\n",
            "24\n",
            "25\n",
            "26\n",
            "27\n",
            "28\n",
            "29\n",
            "30\n",
            "31\n",
            "32\n",
            "33\n",
            "34\n",
            "35\n",
            "36\n",
            "37\n",
            "38\n",
            "39\n",
            "40\n",
            "41\n",
            "42\n",
            "43\n",
            "44\n",
            "45\n",
            "46\n",
            "47\n",
            "48\n",
            "49\n",
            "50\n",
            "Breaking out of the loop at 51\n",
            "1\n",
            "2\n",
            "3\n",
            "4\n",
            "5\n",
            "6\n",
            "7\n",
            "8\n",
            "9\n",
            "10\n",
            "11\n",
            "12\n",
            "13\n",
            "14\n",
            "15\n",
            "16\n",
            "17\n",
            "18\n",
            "19\n",
            "20\n",
            "21\n",
            "22\n",
            "23\n",
            "24\n",
            "25\n",
            "26\n",
            "27\n",
            "28\n",
            "29\n",
            "30\n",
            "31\n",
            "32\n",
            "33\n",
            "34\n",
            "35\n",
            "36\n",
            "37\n",
            "38\n",
            "39\n",
            "40\n",
            "41\n",
            "42\n",
            "43\n",
            "44\n",
            "45\n",
            "46\n",
            "47\n",
            "48\n",
            "49\n",
            "50\n",
            "Breaking out of the loop at 51\n"
          ]
        }
      ]
    },
    {
      "cell_type": "code",
      "execution_count": null,
      "id": "499b91d0-1f1b-494f-af2b-8cc3a06d90ed",
      "metadata": {
        "id": "499b91d0-1f1b-494f-af2b-8cc3a06d90ed"
      },
      "outputs": [],
      "source": [
        "# Write a Python program to skip even numbers while printing numbers from 1 to 20 using a for loop."
      ]
    },
    {
      "cell_type": "code",
      "source": [
        "for i in range(1, 21):\n",
        "  if i % 2 != 0:\n",
        "    print(i)"
      ],
      "metadata": {
        "id": "-Pr9nR4nRO9l"
      },
      "id": "-Pr9nR4nRO9l",
      "execution_count": null,
      "outputs": []
    },
    {
      "cell_type": "code",
      "execution_count": null,
      "id": "f8ffed70-dfde-4262-a2fd-0d35d69b5fb1",
      "metadata": {
        "id": "f8ffed70-dfde-4262-a2fd-0d35d69b5fb1"
      },
      "outputs": [],
      "source": [
        "# Write a Python program to count how many times a particular character appears in a string using a for loop. (User input for string and character)"
      ]
    },
    {
      "cell_type": "code",
      "source": [
        "x=input(\"enter the string:\" )\n",
        "y=input(\"enter the character:\")\n",
        "count=0\n",
        "for i in x:\n",
        "  if i==y:\n",
        "    count+=1\n",
        "    print(count)"
      ],
      "metadata": {
        "id": "8nNa1fDoVEOn",
        "outputId": "e1a5ad27-021b-4572-e4ef-9617b2048cc8",
        "colab": {
          "base_uri": "https://localhost:8080/"
        }
      },
      "id": "8nNa1fDoVEOn",
      "execution_count": null,
      "outputs": [
        {
          "output_type": "stream",
          "name": "stdout",
          "text": [
            "enter the string:priya varsha\n",
            "enter the character:a\n",
            "1\n",
            "2\n",
            "3\n"
          ]
        }
      ]
    },
    {
      "cell_type": "code",
      "execution_count": null,
      "id": "01f976ed-4dcd-4842-ae84-d3b5cc42d011",
      "metadata": {
        "id": "01f976ed-4dcd-4842-ae84-d3b5cc42d011"
      },
      "outputs": [],
      "source": [
        "#  for the numberWrite a Python program to calculate the sum of digits of a number. (User input)"
      ]
    },
    {
      "cell_type": "code",
      "source": [
        "x=input(\"enter the number:\")\n",
        "y=0\n",
        "for i in x:\n",
        "  y+=int(i)\n",
        "  print(y)"
      ],
      "metadata": {
        "id": "bwBCAegeWhFg",
        "outputId": "3d17181b-c01f-49f7-c473-f136c519181c",
        "colab": {
          "base_uri": "https://localhost:8080/"
        }
      },
      "id": "bwBCAegeWhFg",
      "execution_count": null,
      "outputs": [
        {
          "output_type": "stream",
          "name": "stdout",
          "text": [
            "enter the number:899\n",
            "8\n",
            "17\n",
            "26\n"
          ]
        }
      ]
    },
    {
      "cell_type": "code",
      "source": [],
      "metadata": {
        "id": "_dpQseFHgCP1"
      },
      "id": "_dpQseFHgCP1",
      "execution_count": null,
      "outputs": []
    },
    {
      "cell_type": "markdown",
      "id": "fe644fae-f262-48dd-b7ff-08eb747d297e",
      "metadata": {
        "id": "fe644fae-f262-48dd-b7ff-08eb747d297e"
      },
      "source": [
        "## Data Structures (Lists, Tuples, Sets, Dictionaries)"
      ]
    },
    {
      "cell_type": "code",
      "execution_count": null,
      "id": "a0333c26-8e19-4c71-9722-d32cf8625ef6",
      "metadata": {
        "id": "a0333c26-8e19-4c71-9722-d32cf8625ef6"
      },
      "outputs": [],
      "source": [
        "# Write a Python program to create a list of integers and print the sum of the elements."
      ]
    },
    {
      "cell_type": "code",
      "source": [
        "x=[2,3,4,5,6]\n",
        "sum(x)\n"
      ],
      "metadata": {
        "id": "SVk-zOBWZRL-",
        "outputId": "1f27c46f-5f50-4de8-b943-8ba9d7be116b",
        "colab": {
          "base_uri": "https://localhost:8080/"
        }
      },
      "id": "SVk-zOBWZRL-",
      "execution_count": null,
      "outputs": [
        {
          "output_type": "execute_result",
          "data": {
            "text/plain": [
              "20"
            ]
          },
          "metadata": {},
          "execution_count": 2
        }
      ]
    },
    {
      "cell_type": "code",
      "execution_count": null,
      "id": "5a23046d-80b0-4f8d-a02f-4e3d833c0443",
      "metadata": {
        "id": "5a23046d-80b0-4f8d-a02f-4e3d833c0443"
      },
      "outputs": [],
      "source": [
        "# Write a Python program to find the largest element in a list."
      ]
    },
    {
      "cell_type": "code",
      "source": [
        "x=[2,3,4,5,6]\n",
        "max(x)"
      ],
      "metadata": {
        "id": "2bD-FvdzTPZB",
        "outputId": "aba23afe-b114-444d-8c21-12db053ca836",
        "colab": {
          "base_uri": "https://localhost:8080/"
        }
      },
      "id": "2bD-FvdzTPZB",
      "execution_count": null,
      "outputs": [
        {
          "output_type": "execute_result",
          "data": {
            "text/plain": [
              "6"
            ]
          },
          "metadata": {},
          "execution_count": 3
        }
      ]
    },
    {
      "cell_type": "code",
      "execution_count": null,
      "id": "9939c2d2-90fd-4e80-81bc-227c72e60e37",
      "metadata": {
        "id": "9939c2d2-90fd-4e80-81bc-227c72e60e37"
      },
      "outputs": [],
      "source": [
        "# Write a Python program to reverse a list."
      ]
    },
    {
      "cell_type": "code",
      "source": [
        "x=[1,2,3,4,5]\n",
        "x[::-1]\n"
      ],
      "metadata": {
        "id": "oycwtILKTeef",
        "outputId": "4ee817fe-00c8-430c-addf-4f537c21aaf2",
        "colab": {
          "base_uri": "https://localhost:8080/"
        }
      },
      "id": "oycwtILKTeef",
      "execution_count": null,
      "outputs": [
        {
          "output_type": "execute_result",
          "data": {
            "text/plain": [
              "[5, 4, 3, 2, 1]"
            ]
          },
          "metadata": {},
          "execution_count": 4
        }
      ]
    },
    {
      "cell_type": "code",
      "execution_count": null,
      "id": "aa287db8-057b-48d4-a6d8-18cc53eb7178",
      "metadata": {
        "id": "aa287db8-057b-48d4-a6d8-18cc53eb7178"
      },
      "outputs": [],
      "source": [
        "# Write a Python program to remove all occurrences of a specific element from a list."
      ]
    },
    {
      "cell_type": "code",
      "source": [
        "x=[1,2,3,4,5,6]\n",
        "x.remove(3)\n",
        "x\n"
      ],
      "metadata": {
        "id": "J0XdyGvJTsZC",
        "outputId": "b9df5dda-6141-4c2b-e4fb-c728be9b6828",
        "colab": {
          "base_uri": "https://localhost:8080/"
        }
      },
      "id": "J0XdyGvJTsZC",
      "execution_count": null,
      "outputs": [
        {
          "output_type": "execute_result",
          "data": {
            "text/plain": [
              "[1, 2, 4, 5, 6]"
            ]
          },
          "metadata": {},
          "execution_count": 5
        }
      ]
    },
    {
      "cell_type": "code",
      "execution_count": null,
      "id": "da9ba926-0ab5-46e9-b66d-128088c3225b",
      "metadata": {
        "id": "da9ba926-0ab5-46e9-b66d-128088c3225b"
      },
      "outputs": [],
      "source": [
        "# Write a Python program to find the index of an element in a list."
      ]
    },
    {
      "cell_type": "code",
      "source": [
        "my_list = [10, 20, 30, 40, 50]\n",
        "element_to_find = 30\n",
        "    index = my_list.index(element_to_find)\n",
        "    print(f\"The index of {element_to_find} is: {index}\")"
      ],
      "metadata": {
        "id": "jBs9zvzIUPB_",
        "outputId": "96048e1f-0775-4b10-f540-3d35968a96b7",
        "colab": {
          "base_uri": "https://localhost:8080/"
        }
      },
      "id": "jBs9zvzIUPB_",
      "execution_count": null,
      "outputs": [
        {
          "output_type": "stream",
          "name": "stdout",
          "text": [
            "The index of 30 is: 2\n"
          ]
        }
      ]
    },
    {
      "cell_type": "code",
      "execution_count": null,
      "id": "9601b6e4-cb90-4e1f-87b4-38ed37076e0d",
      "metadata": {
        "id": "9601b6e4-cb90-4e1f-87b4-38ed37076e0d"
      },
      "outputs": [],
      "source": [
        "# Write a Python program to find if a specific element exists in a list."
      ]
    },
    {
      "cell_type": "code",
      "source": [
        "my_list = [10, 20, 30, 40, 50]\n",
        "element_to_find = 30\n",
        "\n",
        "if element_to_find in my_list:\n",
        "    print(f\"{element_to_find} is present in the list\")\n",
        "else:\n",
        "    print(f\"{element_to_find} is not present in the list\")\n"
      ],
      "metadata": {
        "id": "937E1mKbU-fC",
        "outputId": "76834a14-2603-4c3f-ed1c-ffdbe469af3f",
        "colab": {
          "base_uri": "https://localhost:8080/"
        }
      },
      "id": "937E1mKbU-fC",
      "execution_count": null,
      "outputs": [
        {
          "output_type": "stream",
          "name": "stdout",
          "text": [
            "30 is present in the list\n"
          ]
        }
      ]
    },
    {
      "cell_type": "code",
      "execution_count": null,
      "id": "9d8e7311-81de-4da2-826c-c4dcad28ed9f",
      "metadata": {
        "id": "9d8e7311-81de-4da2-826c-c4dcad28ed9f"
      },
      "outputs": [],
      "source": [
        "# Write a Python program to remove duplicates from a list."
      ]
    },
    {
      "cell_type": "code",
      "source": [
        "x= [1,2,2,3,4,4,5]\n",
        "list(set(x))\n",
        "x"
      ],
      "metadata": {
        "id": "lQqYAyM8VbEm",
        "outputId": "3d124c6d-b02d-45a1-891c-a08e5582c4a8",
        "colab": {
          "base_uri": "https://localhost:8080/"
        }
      },
      "id": "lQqYAyM8VbEm",
      "execution_count": null,
      "outputs": [
        {
          "output_type": "execute_result",
          "data": {
            "text/plain": [
              "[1, 2, 2, 3, 4, 4, 5]"
            ]
          },
          "metadata": {},
          "execution_count": 9
        }
      ]
    },
    {
      "cell_type": "code",
      "execution_count": null,
      "id": "09e5121b-97b3-42e4-8025-f28f3470681b",
      "metadata": {
        "id": "09e5121b-97b3-42e4-8025-f28f3470681b"
      },
      "outputs": [],
      "source": [
        "# Write a Python program to count the occurrences of an element in a list."
      ]
    },
    {
      "cell_type": "code",
      "source": [
        "x=[1,2,2,3,3,3,4,5,6]\n",
        "x.count(3)"
      ],
      "metadata": {
        "id": "e2YxmuzcVuLH",
        "outputId": "d9ea15ef-c214-44cc-85eb-6261cb47041e",
        "colab": {
          "base_uri": "https://localhost:8080/"
        }
      },
      "id": "e2YxmuzcVuLH",
      "execution_count": null,
      "outputs": [
        {
          "output_type": "execute_result",
          "data": {
            "text/plain": [
              "3"
            ]
          },
          "metadata": {},
          "execution_count": 10
        }
      ]
    },
    {
      "cell_type": "code",
      "execution_count": null,
      "id": "b774b741-e9a6-45db-8f00-e6d9b734d03a",
      "metadata": {
        "id": "b774b741-e9a6-45db-8f00-e6d9b734d03a"
      },
      "outputs": [],
      "source": [
        "# Write a Python program to get the number of even numbers in a list."
      ]
    },
    {
      "cell_type": "code",
      "source": [
        "x=[1,2,3,4,5,6,78,9]\n",
        "count=0\n",
        "for i in x:\n",
        "  if i%2==0:\n",
        "    count+=1\n",
        "    print(count)"
      ],
      "metadata": {
        "id": "-G7bCeMyV3Iy",
        "outputId": "67f462c4-b49c-4341-cef5-4ff84c44b1e7",
        "colab": {
          "base_uri": "https://localhost:8080/"
        }
      },
      "id": "-G7bCeMyV3Iy",
      "execution_count": null,
      "outputs": [
        {
          "output_type": "stream",
          "name": "stdout",
          "text": [
            "1\n",
            "2\n",
            "3\n",
            "4\n"
          ]
        }
      ]
    },
    {
      "cell_type": "code",
      "execution_count": null,
      "id": "5ce4fd2b-ab16-4b40-9ac2-d19c244d8d96",
      "metadata": {
        "id": "5ce4fd2b-ab16-4b40-9ac2-d19c244d8d96"
      },
      "outputs": [],
      "source": [
        "# Write a Python program to create a tuple and print it."
      ]
    },
    {
      "cell_type": "code",
      "source": [
        "x=(1,2,3,4,5,6)\n",
        "x"
      ],
      "metadata": {
        "id": "zRkHes3iWJAR",
        "outputId": "9c8d3bf4-b757-4eaf-e3f4-5cf774076c70",
        "colab": {
          "base_uri": "https://localhost:8080/"
        }
      },
      "id": "zRkHes3iWJAR",
      "execution_count": null,
      "outputs": [
        {
          "output_type": "execute_result",
          "data": {
            "text/plain": [
              "(1, 2, 3, 4, 5, 6)"
            ]
          },
          "metadata": {},
          "execution_count": 12
        }
      ]
    },
    {
      "cell_type": "code",
      "execution_count": null,
      "id": "5c04f880-6e96-4ef4-9f4b-df21aae76ff1",
      "metadata": {
        "id": "5c04f880-6e96-4ef4-9f4b-df21aae76ff1"
      },
      "outputs": [],
      "source": [
        "# Write a Python program to convert a tuple to a list and vice versa."
      ]
    },
    {
      "cell_type": "code",
      "source": [
        "x=(1,2,3,4,5,6)\n",
        "list(x)"
      ],
      "metadata": {
        "id": "TaJtej7QWUZR",
        "outputId": "c762f895-f587-4c05-f150-2b94f8401887",
        "colab": {
          "base_uri": "https://localhost:8080/"
        }
      },
      "id": "TaJtej7QWUZR",
      "execution_count": null,
      "outputs": [
        {
          "output_type": "execute_result",
          "data": {
            "text/plain": [
              "[1, 2, 3, 4, 5, 6]"
            ]
          },
          "metadata": {},
          "execution_count": 13
        }
      ]
    },
    {
      "cell_type": "code",
      "execution_count": null,
      "id": "d5192acc-27f3-456e-9c72-3b276a587bf5",
      "metadata": {
        "id": "d5192acc-27f3-456e-9c72-3b276a587bf5"
      },
      "outputs": [],
      "source": [
        "# Write a Python program to find the maximum and minimum values in a tuple."
      ]
    },
    {
      "cell_type": "code",
      "source": [
        "x=(1,2,3,4,5,6,7,8,9)\n",
        "print(max(x))\n",
        "print(min(x))"
      ],
      "metadata": {
        "id": "8YELVDr9WjMk",
        "outputId": "66d9891c-2e92-4273-9bac-6c03dbad218c",
        "colab": {
          "base_uri": "https://localhost:8080/"
        }
      },
      "id": "8YELVDr9WjMk",
      "execution_count": null,
      "outputs": [
        {
          "output_type": "stream",
          "name": "stdout",
          "text": [
            "9\n",
            "1\n"
          ]
        }
      ]
    },
    {
      "cell_type": "code",
      "execution_count": null,
      "id": "43f0a340-9407-4302-af7e-4e63db578bbf",
      "metadata": {
        "id": "43f0a340-9407-4302-af7e-4e63db578bbf"
      },
      "outputs": [],
      "source": [
        "# Write a Python program to unpack a tuple into variables."
      ]
    },
    {
      "cell_type": "code",
      "source": [
        "x=(10,11,12,13)\n",
        "a,b,c,d=x\n",
        "print(a)\n",
        "print(b)\n",
        "print(c)\n",
        "print(d)"
      ],
      "metadata": {
        "id": "h9ei0ID6WuYj",
        "outputId": "c9da2c0e-cc2e-4039-e545-97cce6f84643",
        "colab": {
          "base_uri": "https://localhost:8080/"
        }
      },
      "id": "h9ei0ID6WuYj",
      "execution_count": null,
      "outputs": [
        {
          "output_type": "stream",
          "name": "stdout",
          "text": [
            "10\n",
            "11\n",
            "12\n",
            "13\n"
          ]
        }
      ]
    },
    {
      "cell_type": "code",
      "execution_count": null,
      "id": "46e96e29-2157-4b9f-bb24-0bd973eada9f",
      "metadata": {
        "id": "46e96e29-2157-4b9f-bb24-0bd973eada9f"
      },
      "outputs": [],
      "source": [
        "# Write a Python program to add an element to a set and check if an elem ent exists in the set."
      ]
    },
    {
      "cell_type": "code",
      "source": [
        "x={1,2,3}\n",
        "x.add(6)\n",
        "if 6 in x:\n",
        "  print(\"6 is present in the set\")\n",
        "else:\n",
        "  print(\"6 is not present in the set\")"
      ],
      "metadata": {
        "id": "e7MWK0jsXM4X",
        "outputId": "181be366-c10a-4d47-da5c-725aec4214c8",
        "colab": {
          "base_uri": "https://localhost:8080/"
        }
      },
      "id": "e7MWK0jsXM4X",
      "execution_count": null,
      "outputs": [
        {
          "output_type": "stream",
          "name": "stdout",
          "text": [
            "6 is present in the set\n"
          ]
        }
      ]
    },
    {
      "cell_type": "code",
      "execution_count": null,
      "id": "d81a803b-fd80-403e-9ae3-680ef44a3d86",
      "metadata": {
        "id": "d81a803b-fd80-403e-9ae3-680ef44a3d86"
      },
      "outputs": [],
      "source": [
        "# Write a Python program to create a dictionary with keys and values and print it."
      ]
    },
    {
      "cell_type": "code",
      "source": [
        "my_dict = {\n",
        "    \"name\": \"Alice\",\n",
        "    \"age\": 30,\n",
        "    \"city\": \"New York\"\n",
        "}\n",
        "\n",
        "# Print the dictionary\n",
        "print(my_dict)\n"
      ],
      "metadata": {
        "id": "abr0tO3YX69O",
        "outputId": "d5fed937-42d5-4b04-b72c-14bba20ae804",
        "colab": {
          "base_uri": "https://localhost:8080/"
        }
      },
      "id": "abr0tO3YX69O",
      "execution_count": null,
      "outputs": [
        {
          "output_type": "stream",
          "name": "stdout",
          "text": [
            "{'name': 'Alice', 'age': 30, 'city': 'New York'}\n"
          ]
        }
      ]
    },
    {
      "cell_type": "code",
      "execution_count": null,
      "id": "7432174b-fe75-4371-b23a-e2c5d62edb15",
      "metadata": {
        "id": "7432174b-fe75-4371-b23a-e2c5d62edb15"
      },
      "outputs": [],
      "source": [
        "# Write a Python program to access a dictionary value using a key."
      ]
    },
    {
      "cell_type": "code",
      "source": [
        "my_dict = {\n",
        "    \"name\": \"Alice\",\n",
        "    \"age\": 30,\n",
        "    \"city\": \"New York\"\n",
        "}\n",
        "\n",
        "# Access the value using the key\n",
        "name = my_dict[\"name\"]\n",
        "\n",
        "# Print the value\n",
        "print(\"Name:\", name)\n"
      ],
      "metadata": {
        "id": "faeL-edIYNTV",
        "outputId": "748b24f4-f705-4e40-df50-2f2e71654333",
        "colab": {
          "base_uri": "https://localhost:8080/"
        }
      },
      "id": "faeL-edIYNTV",
      "execution_count": null,
      "outputs": [
        {
          "output_type": "stream",
          "name": "stdout",
          "text": [
            "Name: Alice\n"
          ]
        }
      ]
    },
    {
      "cell_type": "code",
      "execution_count": null,
      "id": "000b3260-d91f-41f2-9729-4b0124f2c4d2",
      "metadata": {
        "id": "000b3260-d91f-41f2-9729-4b0124f2c4d2"
      },
      "outputs": [],
      "source": [
        "# Write a Python program to check if a key exists in a dictionary."
      ]
    },
    {
      "cell_type": "code",
      "source": [
        "my_dict = {\n",
        "    \"name\": \"Alice\",\n",
        "    \"age\": 30,\n",
        "    \"city\": \"New York\"\n",
        "}\n",
        "\n",
        "# Check if the key \"name\" exists\n",
        "if \"name\" in my_dict:\n",
        "    print(\"The key 'name' exists in the dictionary\")\n",
        "else:\n",
        "    print(\"The key 'name' does not exist in the dictionary\")"
      ],
      "metadata": {
        "id": "KlrrCLW9YWrn",
        "outputId": "e352e0f0-2312-4a20-e827-179e1246d94e",
        "colab": {
          "base_uri": "https://localhost:8080/"
        }
      },
      "id": "KlrrCLW9YWrn",
      "execution_count": null,
      "outputs": [
        {
          "output_type": "stream",
          "name": "stdout",
          "text": [
            "The key 'name' exists in the dictionary\n"
          ]
        }
      ]
    },
    {
      "cell_type": "code",
      "execution_count": null,
      "id": "c4b1a942-818e-42c1-b742-1fabe80fca6d",
      "metadata": {
        "id": "c4b1a942-818e-42c1-b742-1fabe80fca6d"
      },
      "outputs": [],
      "source": [
        "# Write a Python program to merge two dictionaries."
      ]
    },
    {
      "cell_type": "code",
      "source": [
        "dict1 = {\"a\": 1, \"b\": 2}\n",
        "dict2 = {\"b\": 3, \"c\": 4}\n",
        "\n",
        "# Merge the dictionaries using the update() method\n",
        "dict1.update(dict2)\n",
        "\n",
        "# Print the merged dictionary\n",
        "print(\"Merged dictionary:\", dict1)"
      ],
      "metadata": {
        "id": "YknFhtUpYetJ",
        "outputId": "326cf77e-c119-47f1-b858-e69cd4e75027",
        "colab": {
          "base_uri": "https://localhost:8080/"
        }
      },
      "id": "YknFhtUpYetJ",
      "execution_count": null,
      "outputs": [
        {
          "output_type": "stream",
          "name": "stdout",
          "text": [
            "Merged dictionary: {'a': 1, 'b': 3, 'c': 4}\n"
          ]
        }
      ]
    },
    {
      "cell_type": "code",
      "execution_count": null,
      "id": "a78f1070-3ff3-436a-8391-153f019f53cd",
      "metadata": {
        "id": "a78f1070-3ff3-436a-8391-153f019f53cd"
      },
      "outputs": [],
      "source": [
        "# Write a Python program to remove a key from a dictionary."
      ]
    },
    {
      "cell_type": "code",
      "source": [
        "my_dict = {'a': 1, 'b': 2, 'c':3}\n",
        "removed_value = my_dict.pop('b', None)\n",
        "print(\"Updated dictionary:\", my_dict)\n",
        "print(\"Removed value:\", removed_value)"
      ],
      "metadata": {
        "id": "GcX963WXYmqm",
        "outputId": "74468472-38ae-4aaa-d3ea-273dde2d1291",
        "colab": {
          "base_uri": "https://localhost:8080/"
        }
      },
      "id": "GcX963WXYmqm",
      "execution_count": null,
      "outputs": [
        {
          "output_type": "stream",
          "name": "stdout",
          "text": [
            "Updated dictionary: {'a': 1, 'c': 3}\n",
            "Removed value: 2\n"
          ]
        }
      ]
    },
    {
      "cell_type": "code",
      "execution_count": null,
      "id": "fcba0267-8cc4-4e89-9e78-2d820916c177",
      "metadata": {
        "id": "fcba0267-8cc4-4e89-9e78-2d820916c177"
      },
      "outputs": [],
      "source": [
        "# Write a Python program to get the number of keys in a dictionary."
      ]
    },
    {
      "cell_type": "code",
      "source": [
        "my_dict = {'a': 1, 'b': 2, 'c': 3}\n",
        "num_keys = len(my_dict)\n",
        "print(\"Number of keys:\", num_keys)"
      ],
      "metadata": {
        "id": "jVwIGRe_Y-82",
        "outputId": "eaebfb4e-5d3f-4a56-ae66-a69eaba3c56d",
        "colab": {
          "base_uri": "https://localhost:8080/"
        }
      },
      "id": "jVwIGRe_Y-82",
      "execution_count": null,
      "outputs": [
        {
          "output_type": "stream",
          "name": "stdout",
          "text": [
            "Number of keys: 3\n"
          ]
        }
      ]
    },
    {
      "cell_type": "code",
      "execution_count": null,
      "id": "d4c5fd77-9656-43e5-8fe2-be7dca23eb6d",
      "metadata": {
        "id": "d4c5fd77-9656-43e5-8fe2-be7dca23eb6d"
      },
      "outputs": [],
      "source": [
        "# Write a Python program to find the largest and smallest values in a dictionary."
      ]
    },
    {
      "cell_type": "code",
      "source": [
        "my_dict = {'a': 10, 'b': 5, 'c': 20, 'd': 15}\n",
        "largest_value = max(my_dict.values())\n",
        "smallest_value = min(my_dict.values())\n",
        "print(\"Largest value:\", largest_value)\n",
        "print(\"Smallest value:\", smallest_value)"
      ],
      "metadata": {
        "id": "3yFwjnsYZEO1",
        "outputId": "8338e514-6763-4d86-fd3a-b9a4c0fe40c4",
        "colab": {
          "base_uri": "https://localhost:8080/"
        }
      },
      "id": "3yFwjnsYZEO1",
      "execution_count": null,
      "outputs": [
        {
          "output_type": "stream",
          "name": "stdout",
          "text": [
            "Largest value: 20\n",
            "Smallest value: 5\n"
          ]
        }
      ]
    },
    {
      "cell_type": "markdown",
      "id": "7830b8cc-9a90-45a2-8e4a-6f3c2b8b133b",
      "metadata": {
        "id": "7830b8cc-9a90-45a2-8e4a-6f3c2b8b133b"
      },
      "source": [
        "## Functions (User-Defined, Arguments, Keyword Arguments, Return Values)"
      ]
    },
    {
      "cell_type": "code",
      "execution_count": null,
      "id": "06a33fba-c6b1-4989-90f4-b647d1fe1627",
      "metadata": {
        "id": "06a33fba-c6b1-4989-90f4-b647d1fe1627"
      },
      "outputs": [],
      "source": [
        "# Write a Python function that returns the square of a number."
      ]
    },
    {
      "cell_type": "code",
      "source": [
        "def square(x):\n",
        "\n",
        "  return x * x\n",
        "\n",
        "# Example usage:\n",
        "result = square(5)\n",
        "print(result)"
      ],
      "metadata": {
        "id": "KHo4ZivIZVwd",
        "outputId": "ca70a149-f836-4799-c677-1876d7e9b9dd",
        "colab": {
          "base_uri": "https://localhost:8080/"
        }
      },
      "id": "KHo4ZivIZVwd",
      "execution_count": null,
      "outputs": [
        {
          "output_type": "stream",
          "name": "stdout",
          "text": [
            "25\n"
          ]
        }
      ]
    },
    {
      "cell_type": "code",
      "source": [
        "x=int(input(\"enter the number:\"))\n",
        "def square(x):\n",
        "  return x*x\n",
        "print(square(x))"
      ],
      "metadata": {
        "id": "oH3BVAI8aCUf",
        "outputId": "33de21e8-0034-483c-d78d-29ee9ee79fa1",
        "colab": {
          "base_uri": "https://localhost:8080/"
        }
      },
      "id": "oH3BVAI8aCUf",
      "execution_count": null,
      "outputs": [
        {
          "output_type": "stream",
          "name": "stdout",
          "text": [
            "enter the number:7\n",
            "49\n"
          ]
        }
      ]
    },
    {
      "cell_type": "code",
      "execution_count": null,
      "id": "91d90a4a-7329-45db-893b-caed8450ba96",
      "metadata": {
        "id": "91d90a4a-7329-45db-893b-caed8450ba96"
      },
      "outputs": [],
      "source": [
        "# Write a Python function that accepts two parameters and returns their sum."
      ]
    },
    {
      "cell_type": "code",
      "source": [
        "x=int(input(\"enter the first number:\"))\n",
        "y=int(input(\"enter the second number\"))\n",
        "def sum(x,y):\n",
        "  return x+y\n",
        "print(sum(x,y))"
      ],
      "metadata": {
        "id": "3y5RGMJYanNS",
        "outputId": "da4b0a2d-b113-435b-8cc8-978a712accf9",
        "colab": {
          "base_uri": "https://localhost:8080/"
        }
      },
      "id": "3y5RGMJYanNS",
      "execution_count": null,
      "outputs": [
        {
          "output_type": "stream",
          "name": "stdout",
          "text": [
            "enter the first number:5\n",
            "enter the second number5\n",
            "10\n"
          ]
        }
      ]
    },
    {
      "cell_type": "code",
      "execution_count": null,
      "id": "dec2f9a5-90c5-478b-890b-0a506ecf45d3",
      "metadata": {
        "id": "dec2f9a5-90c5-478b-890b-0a506ecf45d3"
      },
      "outputs": [],
      "source": [
        "# Write a Python function to check if a given number is prime."
      ]
    },
    {
      "source": [
        "def is_prime(number):\n",
        "  if number <= 1:\n",
        "  for i in range(2, int(number**0.5) + 1):\n",
        "    if number % i == 0:\n",
        "      return False\n",
        "\n",
        "  return True\n",
        "number = 17\n",
        "if is_prime(number):\n",
        "  print(f\"{number} is a prime number.\")\n",
        "else:\n",
        "  print(f\"{number} is not a prime number.\")"
      ],
      "cell_type": "code",
      "metadata": {
        "colab": {
          "base_uri": "https://localhost:8080/",
          "height": 106
        },
        "id": "jGeJB98CcaPz",
        "outputId": "3900360d-44a9-498d-f84c-11de02c32581"
      },
      "id": "jGeJB98CcaPz",
      "execution_count": null,
      "outputs": [
        {
          "output_type": "error",
          "ename": "IndentationError",
          "evalue": "expected an indented block after 'if' statement on line 2 (<ipython-input-1-23a3cfef5803>, line 3)",
          "traceback": [
            "\u001b[0;36m  File \u001b[0;32m\"<ipython-input-1-23a3cfef5803>\"\u001b[0;36m, line \u001b[0;32m3\u001b[0m\n\u001b[0;31m    for i in range(2, int(number**0.5) + 1):\u001b[0m\n\u001b[0m    ^\u001b[0m\n\u001b[0;31mIndentationError\u001b[0m\u001b[0;31m:\u001b[0m expected an indented block after 'if' statement on line 2\n"
          ]
        }
      ]
    },
    {
      "cell_type": "code",
      "execution_count": null,
      "id": "84a2d010-e7b2-409b-b1f4-99bf806bb77a",
      "metadata": {
        "id": "84a2d010-e7b2-409b-b1f4-99bf806bb77a"
      },
      "outputs": [],
      "source": [
        "# Write a Python function to calculate the power of a number using recursion."
      ]
    },
    {
      "source": [
        "def power(base, exponent):\n",
        "\n",
        "  if exponent == 0:\n",
        "    return 1\n",
        "  elif exponent < 0:\n",
        "    return 1 / power(base, -exponent)\n",
        "  else:\n",
        "    return base * power(base, exponent - 1)\n",
        "\n",
        "result = power(2, 3)\n",
        "print(result)"
      ],
      "cell_type": "code",
      "metadata": {
        "id": "jRRtbl1K4KBB",
        "outputId": "d689d345-e777-4cf9-f87e-ebe5a96b5d52",
        "colab": {
          "base_uri": "https://localhost:8080/"
        }
      },
      "id": "jRRtbl1K4KBB",
      "execution_count": null,
      "outputs": [
        {
          "output_type": "stream",
          "name": "stdout",
          "text": [
            "8\n"
          ]
        }
      ]
    },
    {
      "cell_type": "code",
      "execution_count": null,
      "id": "ec44911e-7820-46cc-96a3-4ca443888837",
      "metadata": {
        "id": "ec44911e-7820-46cc-96a3-4ca443888837"
      },
      "outputs": [],
      "source": [
        "# Write a Python function to accept a list and return its length without using the built-in len() function."
      ]
    },
    {
      "cell_type": "code",
      "source": [],
      "metadata": {
        "id": "O37W2oKx4YZ4"
      },
      "id": "O37W2oKx4YZ4",
      "execution_count": null,
      "outputs": []
    },
    {
      "source": [
        "def list_length(my_list):\n",
        "\n",
        "  count = 0\n",
        "  for _ in my_list:\n",
        "    count += 1\n",
        "  return count\n",
        "my_list = [1, 2, 3, 4, 5]\n",
        "length = list_length(my_list)\n",
        "print(length)"
      ],
      "cell_type": "code",
      "metadata": {
        "id": "XQdDFBI64auw",
        "outputId": "5ee7b350-fe9c-4602-e228-677aec30d388",
        "colab": {
          "base_uri": "https://localhost:8080/"
        }
      },
      "id": "XQdDFBI64auw",
      "execution_count": null,
      "outputs": [
        {
          "output_type": "stream",
          "name": "stdout",
          "text": [
            "5\n"
          ]
        }
      ]
    },
    {
      "cell_type": "code",
      "execution_count": null,
      "id": "fb4c08e1-34f3-487a-a1c6-77cd60fb4836",
      "metadata": {
        "id": "fb4c08e1-34f3-487a-a1c6-77cd60fb4836"
      },
      "outputs": [],
      "source": [
        "# Write a Python function that accepts both positional and keyword arguments and prints the sum of positional arguments."
      ]
    },
    {
      "source": [
        "def sum_positional_args(*args, **kwargs):\n",
        "\n",
        "  total = sum(args)\n",
        "  print(\"Sum of positional arguments:\", total)\n",
        "\n",
        "# Example usage:\n",
        "sum_positional_args(1, 2, 3, a=4, b=5)"
      ],
      "cell_type": "code",
      "metadata": {
        "id": "2nrH7qoh4nZI",
        "outputId": "545da699-05b9-4f80-d099-3be163f42ec6",
        "colab": {
          "base_uri": "https://localhost:8080/"
        }
      },
      "id": "2nrH7qoh4nZI",
      "execution_count": null,
      "outputs": [
        {
          "output_type": "stream",
          "name": "stdout",
          "text": [
            "Sum of positional arguments: 6\n"
          ]
        }
      ]
    },
    {
      "cell_type": "code",
      "execution_count": null,
      "id": "f4ffc7a8-f579-461c-b507-4085a0477283",
      "metadata": {
        "id": "f4ffc7a8-f579-461c-b507-4085a0477283"
      },
      "outputs": [],
      "source": [
        "# Write a Python function to find the maximum of two numbers using keyword arguments."
      ]
    },
    {
      "source": [
        "def find_maximum(num1=0, num2=0):\n",
        "\n",
        "  return max(num1, num2)\n",
        "result1 = find_maximum(num1=10, num2=5)\n",
        "print(result1)\n",
        "\n",
        "result2 = find_maximum(num2=12, num1=8)\n",
        "print(result2)\n",
        "\n",
        "result3 = find_maximum()\n",
        "print(result3)"
      ],
      "cell_type": "code",
      "metadata": {
        "id": "prU9iab94wJw",
        "outputId": "eaaf20b3-99b7-4279-ff16-6ab60a1fdd6f",
        "colab": {
          "base_uri": "https://localhost:8080/"
        }
      },
      "id": "prU9iab94wJw",
      "execution_count": null,
      "outputs": [
        {
          "output_type": "stream",
          "name": "stdout",
          "text": [
            "10\n",
            "12\n",
            "0\n"
          ]
        }
      ]
    },
    {
      "source": [
        "def product_of_list(numbers):\n",
        "    product = 1  # Initialize the product to 1\n",
        "    for number in numbers:\n",
        "        product *= number  # Multiply the product by each number in the list\n",
        "    return product\n",
        "my_list = [1, 2, 3, 4, 5]\n",
        "result = product_of_list(my_list)\n",
        "print(result)  # Output: 120"
      ],
      "cell_type": "code",
      "metadata": {
        "id": "3hsBAf1f5A5o",
        "outputId": "95eb2342-3dec-40e0-82fa-52af51400ce0",
        "colab": {
          "base_uri": "https://localhost:8080/"
        }
      },
      "id": "3hsBAf1f5A5o",
      "execution_count": null,
      "outputs": [
        {
          "output_type": "stream",
          "name": "stdout",
          "text": [
            "120\n"
          ]
        }
      ]
    },
    {
      "source": [
        "def product_of_list(numbers):\n",
        "\n",
        "    product = 1\n",
        "    for number in numbers:\n",
        "        product *= number\n",
        "    return product\n",
        "my_list = [1, 2, 3, 4, 5]\n",
        "result = product_of_list(my_list)\n",
        "print(result)"
      ],
      "cell_type": "code",
      "metadata": {
        "id": "ab0RZEiQ5JrY",
        "outputId": "66f8468f-78d6-4657-91da-ac0f7cc8211d",
        "colab": {
          "base_uri": "https://localhost:8080/"
        }
      },
      "id": "ab0RZEiQ5JrY",
      "execution_count": null,
      "outputs": [
        {
          "output_type": "stream",
          "name": "stdout",
          "text": [
            "120\n"
          ]
        }
      ]
    },
    {
      "cell_type": "code",
      "execution_count": null,
      "id": "0b00c4af-89e0-43e8-a991-1b684d2ce33f",
      "metadata": {
        "id": "0b00c4af-89e0-43e8-a991-1b684d2ce33f"
      },
      "outputs": [],
      "source": [
        "# Write a Python function that accepts a list of numbers and returns their product."
      ]
    },
    {
      "source": [
        "from functools import reduce\n",
        "\n",
        "def product_of_list_reduce(numbers):\n",
        "    if not numbers:\n",
        "        return 1\n",
        "    return reduce(lambda x, y: x * y, numbers)\n",
        "my_list = [1, 2, 3, 4, 5]\n",
        "result = product_of_list_reduce(my_list)\n",
        "print(result)"
      ],
      "cell_type": "code",
      "metadata": {
        "id": "y4sfYFRm5b_Z"
      },
      "id": "y4sfYFRm5b_Z",
      "execution_count": null,
      "outputs": []
    },
    {
      "cell_type": "code",
      "execution_count": null,
      "id": "9cd11703-5b48-44fe-af4e-ea906a2762c9",
      "metadata": {
        "id": "9cd11703-5b48-44fe-af4e-ea906a2762c9"
      },
      "outputs": [],
      "source": [
        "# Write a Python function to check if a number is even or odd using the modulo operator."
      ]
    },
    {
      "source": [
        "def is_even(number):\n",
        "\n",
        "  return number % 2 == 0\n",
        "print(is_even(4))\n",
        "print(is_even(7))"
      ],
      "cell_type": "code",
      "metadata": {
        "id": "YghLNt2w5oap",
        "outputId": "c130e3c4-a63e-4011-f326-7a08c631326d",
        "colab": {
          "base_uri": "https://localhost:8080/"
        }
      },
      "id": "YghLNt2w5oap",
      "execution_count": null,
      "outputs": [
        {
          "output_type": "stream",
          "name": "stdout",
          "text": [
            "True\n",
            "False\n"
          ]
        }
      ]
    },
    {
      "cell_type": "code",
      "execution_count": null,
      "id": "afbf262e-daed-40a9-827f-82fa60979610",
      "metadata": {
        "id": "afbf262e-daed-40a9-827f-82fa60979610"
      },
      "outputs": [],
      "source": [
        "# Write a Python program to create a list of squares of numbers from 1 to 10 using list comprehension."
      ]
    },
    {
      "source": [
        "squares = [x**2 for x in range(1, 11)]\n",
        "print(squares)"
      ],
      "cell_type": "code",
      "metadata": {
        "id": "UKWerEYp534p",
        "outputId": "0ef9fe39-87ea-422a-9dcf-5e5cc195c329",
        "colab": {
          "base_uri": "https://localhost:8080/"
        }
      },
      "id": "UKWerEYp534p",
      "execution_count": null,
      "outputs": [
        {
          "output_type": "stream",
          "name": "stdout",
          "text": [
            "[1, 4, 9, 16, 25, 36, 49, 64, 81, 100]\n"
          ]
        }
      ]
    },
    {
      "cell_type": "code",
      "execution_count": null,
      "id": "7fff76d8-9ba8-4006-9be6-6f7350092d1c",
      "metadata": {
        "id": "7fff76d8-9ba8-4006-9be6-6f7350092d1c"
      },
      "outputs": [],
      "source": [
        "# Write a Python program to filter out all even numbers from a list using list comprehension."
      ]
    },
    {
      "source": [
        "numbers = [1, 2, 3, 4, 5, 6, 7, 8, 9, 10]\n",
        "odd_numbers = [x for x in numbers if x % 2 != 0]\n",
        "print(odd_numbers)"
      ],
      "cell_type": "code",
      "metadata": {
        "id": "416t9jyk58Wx",
        "outputId": "6f5f7725-77c2-448d-8a36-36b6d5182c46",
        "colab": {
          "base_uri": "https://localhost:8080/"
        }
      },
      "id": "416t9jyk58Wx",
      "execution_count": null,
      "outputs": [
        {
          "output_type": "stream",
          "name": "stdout",
          "text": [
            "[1, 3, 5, 7, 9]\n"
          ]
        }
      ]
    },
    {
      "cell_type": "code",
      "execution_count": null,
      "id": "6ae9b8df-38f9-4fd7-bad1-aa7b07cc9271",
      "metadata": {
        "id": "6ae9b8df-38f9-4fd7-bad1-aa7b07cc9271"
      },
      "outputs": [],
      "source": [
        "# Write a Python program to create a list of strings that are longer than 4 characters from a given list of words using list comprehension."
      ]
    },
    {
      "source": [
        "words = [\"apple\", \"banana\", \"kiwi\", \"orange\", \"grapefruit\"]\n",
        "long_words = [word for word in words if len(word) > 4]\n",
        "print(long_words)"
      ],
      "cell_type": "code",
      "metadata": {
        "id": "ZuoDYT2z6B2R",
        "outputId": "3709881c-9f5e-4952-fb94-e201b5394846",
        "colab": {
          "base_uri": "https://localhost:8080/"
        }
      },
      "id": "ZuoDYT2z6B2R",
      "execution_count": null,
      "outputs": [
        {
          "output_type": "stream",
          "name": "stdout",
          "text": [
            "['apple', 'banana', 'orange', 'grapefruit']\n"
          ]
        }
      ]
    },
    {
      "cell_type": "code",
      "execution_count": null,
      "id": "f492c7d4-6ad3-48ab-9b61-232be02aecee",
      "metadata": {
        "id": "f492c7d4-6ad3-48ab-9b61-232be02aecee"
      },
      "outputs": [],
      "source": [
        "# Write a Python program to create a list of all uppercase letters in a string using list comprehension."
      ]
    },
    {
      "source": [
        "my_string = \"Hello World!\"\n",
        "uppercase_letters = [char for char in my_string if char.isupper()]\n",
        "print(uppercase_letters)"
      ],
      "cell_type": "code",
      "metadata": {
        "id": "uRYncPMK6Gr6",
        "outputId": "b306b312-8c0c-48fc-d4e7-7875557b2a0d",
        "colab": {
          "base_uri": "https://localhost:8080/"
        }
      },
      "id": "uRYncPMK6Gr6",
      "execution_count": null,
      "outputs": [
        {
          "output_type": "stream",
          "name": "stdout",
          "text": [
            "['H', 'W']\n"
          ]
        }
      ]
    },
    {
      "cell_type": "code",
      "execution_count": null,
      "id": "929a7f74-1762-4a2a-be23-bacf67ff4d8b",
      "metadata": {
        "id": "929a7f74-1762-4a2a-be23-bacf67ff4d8b"
      },
      "outputs": [],
      "source": [
        "# Write a Python program to generate the first n Fibonacci numbers using list comprehension."
      ]
    },
    {
      "source": [
        "def fibonacci_sequence(n):\n",
        "\n",
        "  if n <= 0:\n",
        "    return []\n",
        "  elif n == 1:\n",
        "    return [0]\n",
        "  else:\n",
        "    fib_list = [0, 1]\n",
        "    [fib_list.append(fib_list[-1] + fib_list[-2]) for _ in range(2, n)]\n",
        "    return fib_list\n",
        "\n",
        "# Get input from the user\n",
        "n = int(input(\"Enter the number of Fibonacci numbers to generate: \"))\n",
        "\n",
        "# Generate and print the Fibonacci sequence\n",
        "fibonacci_numbers = fibonacci_sequence(n)\n",
        "print(fibonacci_numbers)"
      ],
      "cell_type": "code",
      "metadata": {
        "id": "XYp52i0u6SmZ"
      },
      "id": "XYp52i0u6SmZ",
      "execution_count": null,
      "outputs": []
    },
    {
      "cell_type": "code",
      "execution_count": null,
      "id": "47188bbc-cf62-47bb-a14e-0582c8b5cdd9",
      "metadata": {
        "id": "47188bbc-cf62-47bb-a14e-0582c8b5cdd9"
      },
      "outputs": [],
      "source": [
        "# Write a Python program to create a dictionary where keys are numbers and values are their squares using dictionary comprehension."
      ]
    },
    {
      "source": [
        "squares_dict = {x: x**2 for x in range(1, 6)}\n",
        "print(squares_dict)"
      ],
      "cell_type": "code",
      "metadata": {
        "id": "H-9LqCvb6gN6"
      },
      "id": "H-9LqCvb6gN6",
      "execution_count": null,
      "outputs": []
    },
    {
      "cell_type": "code",
      "execution_count": null,
      "id": "3c4637d3-aa85-4b4c-acf3-953c10818bcb",
      "metadata": {
        "id": "3c4637d3-aa85-4b4c-acf3-953c10818bcb"
      },
      "outputs": [],
      "source": [
        "# Write a Python program to create a dictionary from two lists (one for keys and one for values) using dictionary comprehension."
      ]
    },
    {
      "source": [
        "keys = ['a', 'b', 'c']\n",
        "values = [1, 2, 3]\n",
        "my_dict = {k: v for k, v in zip(keys, values)}\n",
        "print(my_dict)"
      ],
      "cell_type": "code",
      "metadata": {
        "id": "y46XuZQKd2Om"
      },
      "id": "y46XuZQKd2Om",
      "execution_count": null,
      "outputs": []
    },
    {
      "cell_type": "code",
      "execution_count": null,
      "id": "de817d6f-96e7-4346-839e-1ef0df539b6b",
      "metadata": {
        "id": "de817d6f-96e7-4346-839e-1ef0df539b6b"
      },
      "outputs": [],
      "source": [
        "# Write a Python program to create a dictionary of numbers from 1 to 5 and their cubes using dictionary comprehension."
      ]
    },
    {
      "source": [
        "cubes_dict = {x: x**3 for x in range(1, 6)}\n",
        "print(cubes_dict)"
      ],
      "cell_type": "code",
      "metadata": {
        "id": "X1a3VMh7dq1x",
        "outputId": "76778102-77a0-43b9-b271-8a1cd0a953ae",
        "colab": {
          "base_uri": "https://localhost:8080/"
        }
      },
      "id": "X1a3VMh7dq1x",
      "execution_count": 6,
      "outputs": [
        {
          "output_type": "stream",
          "name": "stdout",
          "text": [
            "{1: 1, 2: 8, 3: 27, 4: 64, 5: 125}\n"
          ]
        }
      ]
    },
    {
      "cell_type": "code",
      "execution_count": null,
      "id": "33695301-057e-49a6-9f80-a2f4e3af60ed",
      "metadata": {
        "id": "33695301-057e-49a6-9f80-a2f4e3af60ed"
      },
      "outputs": [],
      "source": [
        "# Write a Python program to square each element of a list using the map() function."
      ]
    },
    {
      "source": [
        "numbers = [1, 2, 3, 4, 5]\n",
        "def square(number):\n",
        "  return number * number\n",
        "squared_numbers = list(map(square, numbers))\n",
        "print(squared_numbers)"
      ],
      "cell_type": "code",
      "metadata": {
        "id": "0MGLEd9Sc9Us"
      },
      "id": "0MGLEd9Sc9Us",
      "execution_count": null,
      "outputs": []
    },
    {
      "cell_type": "code",
      "execution_count": null,
      "id": "6d4d17f3-c40f-4944-8656-c6416b600361",
      "metadata": {
        "id": "6d4d17f3-c40f-4944-8656-c6416b600361"
      },
      "outputs": [],
      "source": [
        "# Write a Python program to filter all even numbers from a list using the filter() function."
      ]
    },
    {
      "source": [
        "numbers = [1, 2, 3, 4, 5, 6, 7, 8, 9, 10]\n",
        "def is_even(number):\n",
        "  return number % 2 == 0\n",
        "even_numbers = list(filter(is_even, numbers))\n",
        "print(even_numbers)"
      ],
      "cell_type": "code",
      "metadata": {
        "id": "4xF9ArqEbq3u",
        "outputId": "48ae2949-f4df-46b8-ba88-bbf9f7c327c2",
        "colab": {
          "base_uri": "https://localhost:8080/"
        }
      },
      "id": "4xF9ArqEbq3u",
      "execution_count": 5,
      "outputs": [
        {
          "output_type": "stream",
          "name": "stdout",
          "text": [
            "[2, 4, 6, 8, 10]\n"
          ]
        }
      ]
    },
    {
      "cell_type": "code",
      "execution_count": null,
      "id": "6634ba1f-9f81-475e-b7c4-422d102afb75",
      "metadata": {
        "id": "6634ba1f-9f81-475e-b7c4-422d102afb75"
      },
      "outputs": [],
      "source": [
        "# Write a Python program to use a lambda function to check if a number is divisible by both 3 and 5."
      ]
    },
    {
      "source": [
        "\n",
        "is_divisible_by_3_and_5 = lambda num: num % 3 == 0 and num % 5 == 0\n",
        "number = int(input(\"Enter a number: \"))\n",
        "if is_divisible_by_3_and_5(number):\n",
        "    print(f\"{number} is divisible by both 3 and 5\")\n",
        "else:\n",
        "    print(f\"{number} is not divisible by both 3 and 5\")"
      ],
      "cell_type": "code",
      "metadata": {
        "id": "RSCROKj5bGKX"
      },
      "id": "RSCROKj5bGKX",
      "execution_count": null,
      "outputs": []
    },
    {
      "cell_type": "code",
      "execution_count": null,
      "id": "0aac8430-5d77-439d-9a99-9598fadf989c",
      "metadata": {
        "id": "0aac8430-5d77-439d-9a99-9598fadf989c"
      },
      "outputs": [],
      "source": [
        "# Write a Python program to multiply all numbers in a list by 2 using a lambda function inside map()."
      ]
    },
    {
      "source": [
        "x= [1, 2, 3, 4, 5]\n",
        "y = list(map(lambda x: x * 2, x))\n",
        "y"
      ],
      "cell_type": "code",
      "metadata": {
        "id": "v882DuPbYhs3",
        "outputId": "743dff8b-7dde-4aa1-e748-20a4657739a1",
        "colab": {
          "base_uri": "https://localhost:8080/"
        }
      },
      "id": "v882DuPbYhs3",
      "execution_count": 4,
      "outputs": [
        {
          "output_type": "execute_result",
          "data": {
            "text/plain": [
              "[2, 4, 6, 8, 10]"
            ]
          },
          "metadata": {},
          "execution_count": 4
        }
      ]
    },
    {
      "cell_type": "code",
      "execution_count": null,
      "id": "e4cd5ba8-c6ec-4f0d-8787-bf0a4b7a2e22",
      "metadata": {
        "id": "e4cd5ba8-c6ec-4f0d-8787-bf0a4b7a2e22"
      },
      "outputs": [],
      "source": [
        "# Write a Python program to remove all occurrences of a specific element from a list."
      ]
    },
    {
      "cell_type": "code",
      "source": [
        "x=[1,2,3,4,5,]\n",
        "x.remove(2)\n",
        "x"
      ],
      "metadata": {
        "id": "F26ZEO4NOqmJ",
        "outputId": "8f61d047-f345-4df5-b081-41393893a71f",
        "colab": {
          "base_uri": "https://localhost:8080/"
        }
      },
      "id": "F26ZEO4NOqmJ",
      "execution_count": 3,
      "outputs": [
        {
          "output_type": "execute_result",
          "data": {
            "text/plain": [
              "[1, 3, 4, 5]"
            ]
          },
          "metadata": {},
          "execution_count": 3
        }
      ]
    },
    {
      "cell_type": "markdown",
      "id": "caba77c7-93db-4893-8f48-c7365ed5c585",
      "metadata": {
        "id": "caba77c7-93db-4893-8f48-c7365ed5c585"
      },
      "source": [
        "**Note:**\n",
        "- All assignments must follow [PEP 8 – Style Guide for Python Code](https://peps.python.org/pep-0008/) guidelines.\n",
        "- You can add multiple solutions for each question. Create a new code cell next to the question and add it. Shortcut for creating cell : `Alt + Enter`"
      ]
    }
  ],
  "metadata": {
    "kernelspec": {
      "display_name": "Python 3 (ipykernel)",
      "language": "python",
      "name": "python3"
    },
    "language_info": {
      "codemirror_mode": {
        "name": "ipython",
        "version": 3
      },
      "file_extension": ".py",
      "mimetype": "text/x-python",
      "name": "python",
      "nbconvert_exporter": "python",
      "pygments_lexer": "ipython3",
      "version": "3.12.6"
    },
    "colab": {
      "provenance": [],
      "include_colab_link": true
    }
  },
  "nbformat": 4,
  "nbformat_minor": 5
}