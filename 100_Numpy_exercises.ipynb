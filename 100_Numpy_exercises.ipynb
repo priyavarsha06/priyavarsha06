{
  "cells": [
    {
      "cell_type": "markdown",
      "metadata": {
        "id": "view-in-github",
        "colab_type": "text"
      },
      "source": [
        "<a href=\"https://colab.research.google.com/github/priyavarsha06/priyavarsha06/blob/main/100_Numpy_exercises.ipynb\" target=\"_parent\"><img src=\"https://colab.research.google.com/assets/colab-badge.svg\" alt=\"Open In Colab\"/></a>"
      ]
    },
    {
      "cell_type": "markdown",
      "id": "6293cc50",
      "metadata": {
        "id": "6293cc50"
      },
      "source": [
        "# 100 numpy exercises\n",
        "\n",
        "This is a collection of exercises that have been collected in the numpy mailing list, on stack overflow\n",
        "and in the numpy documentation. The goal of this collection is to offer a quick reference for both old\n",
        "and new users but also to provide a set of exercises for those who teach.\n",
        "\n",
        "\n",
        "If you find an error or think you've a better way to solve some of them, feel\n",
        "free to open an issue at <https://github.com/rougier/numpy-100>."
      ]
    },
    {
      "cell_type": "markdown",
      "id": "a167c052",
      "metadata": {
        "id": "a167c052"
      },
      "source": [
        "File automatically generated. See the documentation to update questions/answers/hints programmatically."
      ]
    },
    {
      "cell_type": "markdown",
      "id": "57fc0ee5",
      "metadata": {
        "id": "57fc0ee5"
      },
      "source": [
        "Run the `initialize.py` module, then for each question you can query the\n",
        "answer or an hint with `hint(n)` or `answer(n)` for `n` question number."
      ]
    },
    {
      "cell_type": "code",
      "execution_count": null,
      "id": "3d46fba2",
      "metadata": {
        "id": "3d46fba2"
      },
      "outputs": [],
      "source": [
        "%run initialise.py"
      ]
    },
    {
      "cell_type": "markdown",
      "id": "3c1222ff",
      "metadata": {
        "id": "3c1222ff"
      },
      "source": [
        "#### 1. Import the numpy package under the name `np` (★☆☆)"
      ]
    },
    {
      "cell_type": "code",
      "execution_count": null,
      "id": "f52e6a0b",
      "metadata": {
        "id": "f52e6a0b"
      },
      "outputs": [],
      "source": [
        "import numpy as np"
      ]
    },
    {
      "cell_type": "markdown",
      "id": "9d9f4753",
      "metadata": {
        "id": "9d9f4753"
      },
      "source": [
        "#### 2. Print the numpy version and the configuration (★☆☆)"
      ]
    },
    {
      "cell_type": "code",
      "execution_count": null,
      "id": "b7fa5fa1",
      "metadata": {
        "id": "b7fa5fa1",
        "outputId": "522da11c-1917-4b01-e732-f77e577e2698",
        "colab": {
          "base_uri": "https://localhost:8080/"
        }
      },
      "outputs": [
        {
          "output_type": "stream",
          "name": "stdout",
          "text": [
            "1.26.4\n",
            "Build Dependencies:\n",
            "  blas:\n",
            "    detection method: pkgconfig\n",
            "    found: true\n",
            "    include directory: /usr/local/include\n",
            "    lib directory: /usr/local/lib\n",
            "    name: openblas64\n",
            "    openblas configuration: USE_64BITINT=1 DYNAMIC_ARCH=1 DYNAMIC_OLDER= NO_CBLAS=\n",
            "      NO_LAPACK= NO_LAPACKE= NO_AFFINITY=1 USE_OPENMP= HASWELL MAX_THREADS=2\n",
            "    pc file directory: /usr/local/lib/pkgconfig\n",
            "    version: 0.3.23.dev\n",
            "  lapack:\n",
            "    detection method: internal\n",
            "    found: true\n",
            "    include directory: unknown\n",
            "    lib directory: unknown\n",
            "    name: dep139863411681952\n",
            "    openblas configuration: unknown\n",
            "    pc file directory: unknown\n",
            "    version: 1.26.4\n",
            "Compilers:\n",
            "  c:\n",
            "    args: -fno-strict-aliasing\n",
            "    commands: cc\n",
            "    linker: ld.bfd\n",
            "    linker args: -Wl,--strip-debug, -fno-strict-aliasing\n",
            "    name: gcc\n",
            "    version: 10.2.1\n",
            "  c++:\n",
            "    commands: c++\n",
            "    linker: ld.bfd\n",
            "    linker args: -Wl,--strip-debug\n",
            "    name: gcc\n",
            "    version: 10.2.1\n",
            "  cython:\n",
            "    commands: cython\n",
            "    linker: cython\n",
            "    name: cython\n",
            "    version: 3.0.8\n",
            "Machine Information:\n",
            "  build:\n",
            "    cpu: x86_64\n",
            "    endian: little\n",
            "    family: x86_64\n",
            "    system: linux\n",
            "  host:\n",
            "    cpu: x86_64\n",
            "    endian: little\n",
            "    family: x86_64\n",
            "    system: linux\n",
            "Python Information:\n",
            "  path: /opt/python/cp310-cp310/bin/python\n",
            "  version: '3.10'\n",
            "SIMD Extensions:\n",
            "  baseline:\n",
            "  - SSE\n",
            "  - SSE2\n",
            "  - SSE3\n",
            "  found:\n",
            "  - SSSE3\n",
            "  - SSE41\n",
            "  - POPCNT\n",
            "  - SSE42\n",
            "  - AVX\n",
            "  - F16C\n",
            "  - FMA3\n",
            "  - AVX2\n",
            "  not found:\n",
            "  - AVX512F\n",
            "  - AVX512CD\n",
            "  - AVX512_KNL\n",
            "  - AVX512_KNM\n",
            "  - AVX512_SKX\n",
            "  - AVX512_CLX\n",
            "  - AVX512_CNL\n",
            "  - AVX512_ICL\n",
            "\n",
            "None\n"
          ]
        }
      ],
      "source": [
        "import numpy as np\n",
        "print(np.__version__)\n",
        "print(np.show_config())\n"
      ]
    },
    {
      "cell_type": "markdown",
      "id": "3e4c23c6",
      "metadata": {
        "id": "3e4c23c6"
      },
      "source": [
        "#### 3. Create a null vector of size 10 (★☆☆)"
      ]
    },
    {
      "source": [
        "import numpy as np\n",
        "Z = np.zeros(10)\n",
        "print(Z)"
      ],
      "cell_type": "code",
      "metadata": {
        "id": "M-DQflhSE9O_",
        "outputId": "a9bd6b6b-9d9c-4c3c-ac6a-a2abec369ae4",
        "colab": {
          "base_uri": "https://localhost:8080/"
        }
      },
      "id": "M-DQflhSE9O_",
      "execution_count": null,
      "outputs": [
        {
          "output_type": "stream",
          "name": "stdout",
          "text": [
            "[0. 0. 0. 0. 0. 0. 0. 0. 0. 0.]\n"
          ]
        }
      ]
    },
    {
      "cell_type": "markdown",
      "id": "c38bbe82",
      "metadata": {
        "id": "c38bbe82"
      },
      "source": [
        "#### 4. How to find the memory size of any array (★☆☆)"
      ]
    },
    {
      "source": [
        "import numpy as np\n",
        "my_array = np.zeros((10, 10), dtype=np.int64)\n",
        "memory_size = my_array.nbytes\n",
        "print(f\"Memory size of the array: {memory_size} bytes\")"
      ],
      "cell_type": "code",
      "metadata": {
        "id": "UYoIcRDOFGGK",
        "outputId": "82f08144-e134-4479-b333-62cd3be719e7",
        "colab": {
          "base_uri": "https://localhost:8080/"
        }
      },
      "id": "UYoIcRDOFGGK",
      "execution_count": null,
      "outputs": [
        {
          "output_type": "stream",
          "name": "stdout",
          "text": [
            "Memory size of the array: 800 bytes\n"
          ]
        }
      ]
    },
    {
      "cell_type": "markdown",
      "id": "67f893d4",
      "metadata": {
        "id": "67f893d4"
      },
      "source": [
        "#### 5. How to get the documentation of the numpy add function from the command line? (★☆☆)"
      ]
    },
    {
      "cell_type": "code",
      "source": [
        "import numpy as np\n",
        "np.info(np.add)"
      ],
      "metadata": {
        "id": "KuQuWDiRJhgt",
        "outputId": "2811a7f2-35a9-4318-b5a5-e621d7da2faf",
        "colab": {
          "base_uri": "https://localhost:8080/"
        }
      },
      "id": "KuQuWDiRJhgt",
      "execution_count": null,
      "outputs": [
        {
          "output_type": "stream",
          "name": "stdout",
          "text": [
            "add(x1, x2, /, out=None, *, where=True, casting='same_kind', order='K', dtype=None, subok=True[, signature, extobj])\n",
            "\n",
            "Add arguments element-wise.\n",
            "\n",
            "Parameters\n",
            "----------\n",
            "x1, x2 : array_like\n",
            "    The arrays to be added.\n",
            "    If ``x1.shape != x2.shape``, they must be broadcastable to a common\n",
            "    shape (which becomes the shape of the output).\n",
            "out : ndarray, None, or tuple of ndarray and None, optional\n",
            "    A location into which the result is stored. If provided, it must have\n",
            "    a shape that the inputs broadcast to. If not provided or None,\n",
            "    a freshly-allocated array is returned. A tuple (possible only as a\n",
            "    keyword argument) must have length equal to the number of outputs.\n",
            "where : array_like, optional\n",
            "    This condition is broadcast over the input. At locations where the\n",
            "    condition is True, the `out` array will be set to the ufunc result.\n",
            "    Elsewhere, the `out` array will retain its original value.\n",
            "    Note that if an uninitialized `out` array is created via the default\n",
            "    ``out=None``, locations within it where the condition is False will\n",
            "    remain uninitialized.\n",
            "**kwargs\n",
            "    For other keyword-only arguments, see the\n",
            "    :ref:`ufunc docs <ufuncs.kwargs>`.\n",
            "\n",
            "Returns\n",
            "-------\n",
            "add : ndarray or scalar\n",
            "    The sum of `x1` and `x2`, element-wise.\n",
            "    This is a scalar if both `x1` and `x2` are scalars.\n",
            "\n",
            "Notes\n",
            "-----\n",
            "Equivalent to `x1` + `x2` in terms of array broadcasting.\n",
            "\n",
            "Examples\n",
            "--------\n",
            ">>> np.add(1.0, 4.0)\n",
            "5.0\n",
            ">>> x1 = np.arange(9.0).reshape((3, 3))\n",
            ">>> x2 = np.arange(3.0)\n",
            ">>> np.add(x1, x2)\n",
            "array([[  0.,   2.,   4.],\n",
            "       [  3.,   5.,   7.],\n",
            "       [  6.,   8.,  10.]])\n",
            "\n",
            "The ``+`` operator can be used as a shorthand for ``np.add`` on ndarrays.\n",
            "\n",
            ">>> x1 = np.arange(9.0).reshape((3, 3))\n",
            ">>> x2 = np.arange(3.0)\n",
            ">>> x1 + x2\n",
            "array([[ 0.,  2.,  4.],\n",
            "       [ 3.,  5.,  7.],\n",
            "       [ 6.,  8., 10.]])\n"
          ]
        }
      ]
    },
    {
      "cell_type": "markdown",
      "id": "e0c739c6",
      "metadata": {
        "id": "e0c739c6"
      },
      "source": [
        "#### 6. Create a null vector of size 10 but the fifth value which is 1 (★☆☆)"
      ]
    },
    {
      "source": [
        "import numpy as np\n",
        "Z = np.zeros(10)\n",
        "Z[4] = 1\n",
        "print(Z)"
      ],
      "cell_type": "code",
      "metadata": {
        "id": "3ffjaWbaNSxz",
        "outputId": "4615e746-1425-4acf-d137-611f53a5815e",
        "colab": {
          "base_uri": "https://localhost:8080/"
        }
      },
      "id": "3ffjaWbaNSxz",
      "execution_count": null,
      "outputs": [
        {
          "output_type": "stream",
          "name": "stdout",
          "text": [
            "[0. 0. 0. 0. 1. 0. 0. 0. 0. 0.]\n"
          ]
        }
      ]
    },
    {
      "cell_type": "markdown",
      "id": "fbebedab",
      "metadata": {
        "id": "fbebedab"
      },
      "source": [
        "#### 7. Create a vector with values ranging from 10 to 49 (★☆☆)"
      ]
    },
    {
      "cell_type": "code",
      "execution_count": null,
      "id": "3d117d54",
      "metadata": {
        "id": "3d117d54",
        "outputId": "78e5efd8-29e0-430a-bc8a-e94673ab8fed",
        "colab": {
          "base_uri": "https://localhost:8080/"
        }
      },
      "outputs": [
        {
          "output_type": "stream",
          "name": "stdout",
          "text": [
            "[10 11 12 13 14 15 16 17 18 19 20 21 22 23 24 25 26 27 28 29 30 31 32 33\n",
            " 34 35 36 37 38 39 40 41 42 43 44 45 46 47 48 49]\n"
          ]
        }
      ],
      "source": [
        "import numpy as np\n",
        "\n",
        "Z = np.arange(10, 50)\n",
        "print(Z)"
      ]
    },
    {
      "cell_type": "markdown",
      "id": "ad0bff02",
      "metadata": {
        "id": "ad0bff02"
      },
      "source": [
        "#### 8. Reverse a vector (first element becomes last) (★☆☆)"
      ]
    },
    {
      "source": [
        "import numpy as np\n",
        "Z = np.array([1, 2, 3, 4, 5])\n",
        "Z_reversed = Z[::-1]\n",
        "print(Z_reversed)"
      ],
      "cell_type": "code",
      "metadata": {
        "id": "GbAP-x1OOAwg",
        "outputId": "5df08f33-f9f6-43f8-d88c-2e70ffb7811e",
        "colab": {
          "base_uri": "https://localhost:8080/"
        }
      },
      "id": "GbAP-x1OOAwg",
      "execution_count": null,
      "outputs": [
        {
          "output_type": "stream",
          "name": "stdout",
          "text": [
            "[5 4 3 2 1]\n"
          ]
        }
      ]
    },
    {
      "cell_type": "markdown",
      "id": "9f59d7e1",
      "metadata": {
        "id": "9f59d7e1"
      },
      "source": [
        "#### 9. Create a 3x3 matrix with values ranging from 0 to 8 (★☆☆)"
      ]
    },
    {
      "source": [
        "import numpy as np\n",
        "Z = np.arange(9).reshape(3, 3)\n",
        "print(Z)"
      ],
      "cell_type": "code",
      "metadata": {
        "id": "jZpOcZGYOi2b",
        "outputId": "f5fd65d0-b635-465d-afda-7dfbc8a6fe28",
        "colab": {
          "base_uri": "https://localhost:8080/"
        }
      },
      "id": "jZpOcZGYOi2b",
      "execution_count": null,
      "outputs": [
        {
          "output_type": "stream",
          "name": "stdout",
          "text": [
            "[[0 1 2]\n",
            " [3 4 5]\n",
            " [6 7 8]]\n"
          ]
        }
      ]
    },
    {
      "cell_type": "markdown",
      "id": "9c4707f5",
      "metadata": {
        "id": "9c4707f5"
      },
      "source": [
        "#### 11. Create a 3x3 identity matrix (★☆☆)"
      ]
    },
    {
      "source": [
        "import numpy as np\n",
        "Z = np.eye(3)\n",
        "print(Z)"
      ],
      "cell_type": "code",
      "metadata": {
        "id": "xdYUTZ4DPgVL",
        "outputId": "6d48ece0-0d8b-4e8f-f992-d014bb59ed58",
        "colab": {
          "base_uri": "https://localhost:8080/"
        }
      },
      "id": "xdYUTZ4DPgVL",
      "execution_count": null,
      "outputs": [
        {
          "output_type": "stream",
          "name": "stdout",
          "text": [
            "[[1. 0. 0.]\n",
            " [0. 1. 0.]\n",
            " [0. 0. 1.]]\n"
          ]
        }
      ]
    },
    {
      "cell_type": "markdown",
      "id": "3bac294a",
      "metadata": {
        "id": "3bac294a"
      },
      "source": [
        "#### 12. Create a 3x3x3 array with random values (★☆☆)"
      ]
    },
    {
      "source": [
        "import numpy as np\n",
        "Z = np.random.rand(3, 3, 3)\n",
        "print(Z)"
      ],
      "cell_type": "code",
      "metadata": {
        "id": "8f3fGDztQTef",
        "outputId": "ef2127b7-9784-45ab-af16-58ab4b42e93d",
        "colab": {
          "base_uri": "https://localhost:8080/"
        }
      },
      "id": "8f3fGDztQTef",
      "execution_count": null,
      "outputs": [
        {
          "output_type": "stream",
          "name": "stdout",
          "text": [
            "[[[0.51795284 0.87437499 0.92902828]\n",
            "  [0.61716855 0.46671699 0.50701592]\n",
            "  [0.3155951  0.12443461 0.06769909]]\n",
            "\n",
            " [[0.32795536 0.69067992 0.14354841]\n",
            "  [0.49611373 0.79261889 0.13044481]\n",
            "  [0.90872335 0.36745231 0.78882775]]\n",
            "\n",
            " [[0.82746411 0.66497437 0.8102665 ]\n",
            "  [0.85000893 0.33936781 0.10087886]\n",
            "  [0.22465676 0.75689134 0.47672567]]]\n"
          ]
        }
      ]
    },
    {
      "cell_type": "markdown",
      "id": "466c2989",
      "metadata": {
        "id": "466c2989"
      },
      "source": [
        "#### 13. Create a 10x10 array with random values and find the minimum and maximum values (★☆☆)"
      ]
    },
    {
      "source": [
        "import numpy as np\n",
        "Z = np.random.rand(10, 10)\n",
        "min_value = Z.min()\n",
        "max_value = Z.max()\n",
        "print(f\"Minimum value: {min_value}\")\n",
        "print(f\"Maximum value: {max_value}\")"
      ],
      "cell_type": "code",
      "metadata": {
        "id": "7ZE-mqOKR7Vv",
        "outputId": "f31aa054-03b2-4aed-f718-3b8ba1085e30",
        "colab": {
          "base_uri": "https://localhost:8080/"
        }
      },
      "id": "7ZE-mqOKR7Vv",
      "execution_count": null,
      "outputs": [
        {
          "output_type": "stream",
          "name": "stdout",
          "text": [
            "Minimum value: 0.002924399987385695\n",
            "Maximum value: 0.9746789461319634\n"
          ]
        }
      ]
    },
    {
      "cell_type": "markdown",
      "id": "53a8edb2",
      "metadata": {
        "id": "53a8edb2"
      },
      "source": [
        "#### 14. Create a random vector of size 30 and find the mean value (★☆☆)"
      ]
    },
    {
      "source": [
        "import numpy as np\n",
        "Z = np.random.rand(30)\n",
        "mean_value = Z.mean()\n",
        "print(f\"Mean value: {mean_value}\")"
      ],
      "cell_type": "code",
      "metadata": {
        "id": "qljr7mYySmFd",
        "outputId": "6284a1b5-a0db-439c-f527-64c6c4543362",
        "colab": {
          "base_uri": "https://localhost:8080/"
        }
      },
      "id": "qljr7mYySmFd",
      "execution_count": null,
      "outputs": [
        {
          "output_type": "stream",
          "name": "stdout",
          "text": [
            "Mean value: 0.5070128269054128\n"
          ]
        }
      ]
    },
    {
      "cell_type": "markdown",
      "id": "cbaad31c",
      "metadata": {
        "id": "cbaad31c"
      },
      "source": [
        "#### 15. Create a 2d array with 1 on the border and 0 inside (★☆☆)"
      ]
    },
    {
      "source": [
        "import numpy as np\n",
        "x = 5\n",
        "y = 5\n",
        "Z = np.ones((x, y))\n",
        "Z[1:-1, 1:-1] = 0\n",
        "print(Z)"
      ],
      "cell_type": "code",
      "metadata": {
        "id": "yZ11AXoOS5mS",
        "outputId": "6bc89d9f-7dd7-4bdf-960e-c2fd80fe65ef",
        "colab": {
          "base_uri": "https://localhost:8080/"
        }
      },
      "id": "yZ11AXoOS5mS",
      "execution_count": null,
      "outputs": [
        {
          "output_type": "stream",
          "name": "stdout",
          "text": [
            "[[1. 1. 1. 1. 1.]\n",
            " [1. 0. 0. 0. 1.]\n",
            " [1. 0. 0. 0. 1.]\n",
            " [1. 0. 0. 0. 1.]\n",
            " [1. 1. 1. 1. 1.]]\n"
          ]
        }
      ]
    },
    {
      "cell_type": "markdown",
      "id": "c5ecc267",
      "metadata": {
        "id": "c5ecc267"
      },
      "source": [
        "#### 16. How to add a border (filled with 0's) around an existing array? (★☆☆)"
      ]
    },
    {
      "source": [
        "import numpy as np\n",
        "Z = np.ones((3, 3))\n",
        "Z_with_border = np.pad(Z, pad_width=1, mode='constant', constant_values=0)\n",
        "print(Z_with_border)"
      ],
      "cell_type": "code",
      "metadata": {
        "id": "-CnsQZyhTpHx",
        "outputId": "767a6e42-cfcc-478e-eb07-14ef507e03b9",
        "colab": {
          "base_uri": "https://localhost:8080/"
        }
      },
      "id": "-CnsQZyhTpHx",
      "execution_count": null,
      "outputs": [
        {
          "output_type": "stream",
          "name": "stdout",
          "text": [
            "[[0. 0. 0. 0. 0.]\n",
            " [0. 1. 1. 1. 0.]\n",
            " [0. 1. 1. 1. 0.]\n",
            " [0. 1. 1. 1. 0.]\n",
            " [0. 0. 0. 0. 0.]]\n"
          ]
        }
      ]
    },
    {
      "cell_type": "markdown",
      "id": "ef909b72",
      "metadata": {
        "id": "ef909b72"
      },
      "source": [
        "#### 17. What is the result of the following expression? (★☆☆)\n",
        "```python\n",
        "0 * np.nan\n",
        "np.nan == np.nan\n",
        "np.inf > np.nan\n",
        "np.nan - np.nan\n",
        "np.nan in set([np.nan])\n",
        "0.3 == 3 * 0.1\n",
        "```"
      ]
    },
    {
      "cell_type": "markdown",
      "id": "502738ac",
      "metadata": {
        "id": "502738ac"
      },
      "source": [
        "#### 18. Create a 5x5 matrix with values 1,2,3,4 just below the diagonal (★☆☆)"
      ]
    },
    {
      "source": [
        "import numpy as np\n",
        "Z = np.zeros((5, 5))\n",
        "Z[1, 0] = 1\n",
        "Z[2, 1] = 2\n",
        "Z[3, 2] = 3\n",
        "Z[4, 3] = 4\n",
        "\n",
        "print(Z)"
      ],
      "cell_type": "code",
      "metadata": {
        "id": "6BGTxhIyUWpW",
        "outputId": "07092a70-6789-432d-db65-1c58144fc8df",
        "colab": {
          "base_uri": "https://localhost:8080/"
        }
      },
      "id": "6BGTxhIyUWpW",
      "execution_count": null,
      "outputs": [
        {
          "output_type": "stream",
          "name": "stdout",
          "text": [
            "[[0. 0. 0. 0. 0.]\n",
            " [1. 0. 0. 0. 0.]\n",
            " [0. 2. 0. 0. 0.]\n",
            " [0. 0. 3. 0. 0.]\n",
            " [0. 0. 0. 4. 0.]]\n"
          ]
        }
      ]
    },
    {
      "cell_type": "markdown",
      "id": "a65da660",
      "metadata": {
        "id": "a65da660"
      },
      "source": [
        "#### 19. Create a 8x8 matrix and fill it with a checkerboard pattern (★☆☆)"
      ]
    },
    {
      "source": [
        "import numpy as np\n",
        "Z = np.zeros((8, 8), dtype=int)\n",
        "Z[1::2, ::2] = 1\n",
        "Z[::2, 1::2] = 1\n",
        "print(Z)"
      ],
      "cell_type": "code",
      "metadata": {
        "id": "fQtPtwfYUpAa",
        "outputId": "b2f74c5b-1d54-41d3-bd25-0347f5ec8231",
        "colab": {
          "base_uri": "https://localhost:8080/"
        }
      },
      "id": "fQtPtwfYUpAa",
      "execution_count": null,
      "outputs": [
        {
          "output_type": "stream",
          "name": "stdout",
          "text": [
            "[[0 1 0 1 0 1 0 1]\n",
            " [1 0 1 0 1 0 1 0]\n",
            " [0 1 0 1 0 1 0 1]\n",
            " [1 0 1 0 1 0 1 0]\n",
            " [0 1 0 1 0 1 0 1]\n",
            " [1 0 1 0 1 0 1 0]\n",
            " [0 1 0 1 0 1 0 1]\n",
            " [1 0 1 0 1 0 1 0]]\n"
          ]
        }
      ]
    },
    {
      "cell_type": "markdown",
      "id": "9f7f9c49",
      "metadata": {
        "id": "9f7f9c49"
      },
      "source": [
        "#### 20. Consider a (6,7,8) shape array, what is the index (x,y,z) of the 100th element? (★☆☆)"
      ]
    },
    {
      "source": [
        "import numpy as np\n",
        "arr = np.arange(6*7*8).reshape(6, 7, 8)\n",
        "print(arr[1, 5, 3])"
      ],
      "cell_type": "code",
      "metadata": {
        "id": "l--rVMHjWBZk",
        "outputId": "ac3a0a32-8f68-45cb-843c-014583e0df0f",
        "colab": {
          "base_uri": "https://localhost:8080/"
        }
      },
      "id": "l--rVMHjWBZk",
      "execution_count": null,
      "outputs": [
        {
          "output_type": "stream",
          "name": "stdout",
          "text": [
            "99\n"
          ]
        }
      ]
    },
    {
      "cell_type": "markdown",
      "id": "66bfda35",
      "metadata": {
        "id": "66bfda35"
      },
      "source": [
        "#### 21. Create a checkerboard 8x8 matrix using the tile function (★☆☆)"
      ]
    },
    {
      "source": [
        "import numpy as np\n",
        "tile = np.array([[0, 1], [1, 0]])\n",
        "checkerboard = np.tile(tile, (4, 4))\n",
        "print(checkerboard)"
      ],
      "cell_type": "code",
      "metadata": {
        "id": "wktGPoZWWq3V",
        "outputId": "e0e3e776-6e41-4088-8ab0-31dda5f8b671",
        "colab": {
          "base_uri": "https://localhost:8080/"
        }
      },
      "id": "wktGPoZWWq3V",
      "execution_count": null,
      "outputs": [
        {
          "output_type": "stream",
          "name": "stdout",
          "text": [
            "[[0 1 0 1 0 1 0 1]\n",
            " [1 0 1 0 1 0 1 0]\n",
            " [0 1 0 1 0 1 0 1]\n",
            " [1 0 1 0 1 0 1 0]\n",
            " [0 1 0 1 0 1 0 1]\n",
            " [1 0 1 0 1 0 1 0]\n",
            " [0 1 0 1 0 1 0 1]\n",
            " [1 0 1 0 1 0 1 0]]\n"
          ]
        }
      ]
    },
    {
      "cell_type": "markdown",
      "id": "d5bcfc08",
      "metadata": {
        "id": "d5bcfc08"
      },
      "source": [
        "#### 22. Normalize a 5x5 random matrix (★☆☆)\n",
        "\n",
        "---\n",
        "\n",
        "\n",
        "\n",
        "---\n",
        "\n",
        "\n",
        "\n",
        "---\n",
        "\n"
      ]
    },
    {
      "source": [
        "import numpy as np\n",
        "Z = np.random.rand(5, 5)\n",
        "Zmax, Zmin = Z.max(), Z.min()\n",
        "Z = (Z - Zmin) / (Zmax - Zmin)\n",
        "\n",
        "print(Z)"
      ],
      "cell_type": "code",
      "metadata": {
        "id": "iO2nIZToYHpD"
      },
      "id": "iO2nIZToYHpD",
      "execution_count": null,
      "outputs": []
    },
    {
      "cell_type": "markdown",
      "id": "f9a0911e",
      "metadata": {
        "id": "f9a0911e"
      },
      "source": [
        "#### 23. Create a custom dtype that describes a color as four unsigned bytes (RGBA) (★☆☆)"
      ]
    },
    {
      "source": [
        "import numpy as np\n",
        "\n",
        "color = np.dtype([(\"r\", np.ubyte),\n",
        "                  (\"g\", np.ubyte),\n",
        "                  (\"b\", np.ubyte),\n",
        "                  (\"a\", np.ubyte)])"
      ],
      "cell_type": "code",
      "metadata": {
        "id": "Gi5wnZiwYSyq"
      },
      "id": "Gi5wnZiwYSyq",
      "execution_count": null,
      "outputs": []
    },
    {
      "cell_type": "markdown",
      "id": "654805b1",
      "metadata": {
        "id": "654805b1"
      },
      "source": [
        "#### 24. Multiply a 5x3 matrix by a 3x2 matrix (real matrix product) (★☆☆)"
      ]
    },
    {
      "source": [
        "import numpy as np\n",
        "matrix1 = np.random.rand(5, 3)\n",
        "matrix2 = np.random.rand(3, 2)\n",
        "result = np.dot(matrix1, matrix2)\n",
        "print(result)"
      ],
      "cell_type": "code",
      "metadata": {
        "id": "6nO0q3kCYbyt"
      },
      "id": "6nO0q3kCYbyt",
      "execution_count": null,
      "outputs": []
    },
    {
      "cell_type": "markdown",
      "id": "994c25df",
      "metadata": {
        "id": "994c25df"
      },
      "source": [
        "#### 25. Given a 1D array, negate all elements which are between 3 and 8, in place. (★☆☆)"
      ]
    },
    {
      "source": [
        "import numpy as np\n",
        "Z = np.arange(10)\n",
        "Z[(3 < Z) & (Z < 8)] *= -1\n",
        "\n",
        "print(Z)"
      ],
      "cell_type": "code",
      "metadata": {
        "id": "KCZkjl1cYnjS"
      },
      "id": "KCZkjl1cYnjS",
      "execution_count": null,
      "outputs": []
    },
    {
      "cell_type": "markdown",
      "id": "b7d15d1a",
      "metadata": {
        "id": "b7d15d1a"
      },
      "source": [
        "#### 26. What is the output of the following script? (★☆☆)\n",
        "```python\n",
        "# Author: Jake VanderPlas\n",
        "\n",
        "print(sum(range(5),-1))\n",
        "from numpy import *\n",
        "print(sum(range(5),-1))\n",
        "```"
      ]
    },
    {
      "cell_type": "code",
      "execution_count": null,
      "id": "4c95bc3f",
      "metadata": {
        "id": "4c95bc3f"
      },
      "outputs": [],
      "source": []
    },
    {
      "source": [
        "9\n",
        "10"
      ],
      "cell_type": "code",
      "metadata": {
        "id": "u-rPBXQZY3VJ"
      },
      "id": "u-rPBXQZY3VJ",
      "execution_count": null,
      "outputs": []
    },
    {
      "cell_type": "markdown",
      "id": "a34f0d08",
      "metadata": {
        "id": "a34f0d08"
      },
      "source": [
        "#### 27. Consider an integer vector Z, which of these expressions are legal? (★☆☆)\n",
        "```python\n",
        "Z**Z\n",
        "2 << Z >> 2\n",
        "Z <- Z\n",
        "1j*Z\n",
        "Z/1/1\n",
        "Z<Z>Z\n",
        "```"
      ]
    },
    {
      "cell_type": "markdown",
      "id": "c34e94bf",
      "metadata": {
        "id": "c34e94bf"
      },
      "source": [
        "#### 28. What are the result of the following expressions? (★☆☆)\n",
        "```python\n",
        "np.array(0) / np.array(0)\n",
        "np.array(0) // np.array(0)\n",
        "np.array([np.nan]).astype(int).astype(float)\n",
        "```"
      ]
    },
    {
      "cell_type": "markdown",
      "id": "546f5e7b",
      "metadata": {
        "id": "546f5e7b"
      },
      "source": [
        "#### 29. How to round away from zero a float array ? (★☆☆)"
      ]
    },
    {
      "source": [
        "import numpy as np\n",
        "\n",
        "def round_away_from_zero(x):\n",
        "\n",
        "  return np.sign(x) * np.ceil(np.abs(x))\n",
        "float_array = np.array([-1.2, 3.5, 0.7, -2.8])\n",
        "rounded_array = round_away_from_zero(float_array)\n",
        "print(rounded_array)"
      ],
      "cell_type": "code",
      "metadata": {
        "id": "skK2sQ7hfKtn",
        "outputId": "8b3eb12e-a227-4fdc-b33e-c182333e0983",
        "colab": {
          "base_uri": "https://localhost:8080/"
        }
      },
      "id": "skK2sQ7hfKtn",
      "execution_count": 1,
      "outputs": [
        {
          "output_type": "stream",
          "name": "stdout",
          "text": [
            "[-2.  4.  1. -3.]\n"
          ]
        }
      ]
    },
    {
      "cell_type": "markdown",
      "id": "eadca856",
      "metadata": {
        "id": "eadca856"
      },
      "source": [
        "#### 30. How to find common values between two arrays? (★☆☆)"
      ]
    },
    {
      "source": [
        "import numpy as np\n",
        "\n",
        "def find_common_values(array1, array2):\n",
        "  return np.intersect1d(array1, array2)\n",
        "array1 = np.array([1, 2, 3, 4, 5])\n",
        "array2 = np.array([3, 5, 6, 7, 8])\n",
        "common_values = find_common_values(array1, array2)\n",
        "print(common_values)"
      ],
      "cell_type": "code",
      "metadata": {
        "id": "oILUnwHQfzuR"
      },
      "id": "oILUnwHQfzuR",
      "execution_count": null,
      "outputs": []
    },
    {
      "cell_type": "markdown",
      "id": "ca16ca22",
      "metadata": {
        "id": "ca16ca22"
      },
      "source": [
        "#### 31. How to ignore all numpy warnings (not recommended)? (★☆☆)"
      ]
    },
    {
      "source": [
        "import warnings\n",
        "import numpy as np\n",
        "\n",
        "warnings.filterwarnings(\"ignore\", category=np.VisibleDeprecationWarning)"
      ],
      "cell_type": "code",
      "metadata": {
        "id": "3LAjPwKWgDFu"
      },
      "id": "3LAjPwKWgDFu",
      "execution_count": 2,
      "outputs": []
    },
    {
      "cell_type": "markdown",
      "id": "c7871d0d",
      "metadata": {
        "id": "c7871d0d"
      },
      "source": [
        "#### 32. Is the following expressions true? (★☆☆)\n",
        "```python\n",
        "np.sqrt(-1) == np.emath.sqrt(-1)\n",
        "```"
      ]
    },
    {
      "cell_type": "code",
      "source": [
        "true"
      ],
      "metadata": {
        "id": "xcftw_XjgVea"
      },
      "id": "xcftw_XjgVea",
      "execution_count": null,
      "outputs": []
    },
    {
      "cell_type": "markdown",
      "id": "e0433e30",
      "metadata": {
        "id": "e0433e30"
      },
      "source": [
        "#### 33. How to get the dates of yesterday, today and tomorrow? (★☆☆)"
      ]
    },
    {
      "source": [
        "import datetime\n",
        "today = datetime.date.today()\n",
        "yesterday = today - datetime.timedelta(days=1)\n",
        "tomorrow = today + datetime.timedelta(days=1)\n",
        "print(\"Yesterday:\", yesterday)\n",
        "print(\"Today:\", today)\n",
        "print(\"Tomorrow:\", tomorrow)"
      ],
      "cell_type": "code",
      "metadata": {
        "id": "CfvLTZFghF93",
        "outputId": "3897e31f-7f83-402d-c93a-4b4c555b29a2",
        "colab": {
          "base_uri": "https://localhost:8080/"
        }
      },
      "id": "CfvLTZFghF93",
      "execution_count": 5,
      "outputs": [
        {
          "output_type": "stream",
          "name": "stdout",
          "text": [
            "Yesterday: 2024-12-01\n",
            "Today: 2024-12-02\n",
            "Tomorrow: 2024-12-03\n"
          ]
        }
      ]
    },
    {
      "cell_type": "markdown",
      "id": "9f52a2ef",
      "metadata": {
        "id": "9f52a2ef"
      },
      "source": [
        "#### 34. How to get all the dates corresponding to the month of July 2016? (★★☆)"
      ]
    },
    {
      "source": [
        "import datetime\n",
        "import calendar\n",
        "\n",
        "def get_dates_for_month(year, month):\n",
        "  num_days = calendar.monthrange(year, month)[1]\n",
        "  return [datetime.date(year, month, day) for day in range(1, num_days + 1)]\n",
        "dates_july_2016 = get_dates_for_month(2016, 7)\n",
        "print(dates_july_2016)"
      ],
      "cell_type": "code",
      "metadata": {
        "id": "SzZpDWFvhk_A",
        "outputId": "968c5e26-80c6-4d15-b3f2-4f77e83c2329",
        "colab": {
          "base_uri": "https://localhost:8080/"
        }
      },
      "id": "SzZpDWFvhk_A",
      "execution_count": 7,
      "outputs": [
        {
          "output_type": "stream",
          "name": "stdout",
          "text": [
            "[datetime.date(2016, 7, 1), datetime.date(2016, 7, 2), datetime.date(2016, 7, 3), datetime.date(2016, 7, 4), datetime.date(2016, 7, 5), datetime.date(2016, 7, 6), datetime.date(2016, 7, 7), datetime.date(2016, 7, 8), datetime.date(2016, 7, 9), datetime.date(2016, 7, 10), datetime.date(2016, 7, 11), datetime.date(2016, 7, 12), datetime.date(2016, 7, 13), datetime.date(2016, 7, 14), datetime.date(2016, 7, 15), datetime.date(2016, 7, 16), datetime.date(2016, 7, 17), datetime.date(2016, 7, 18), datetime.date(2016, 7, 19), datetime.date(2016, 7, 20), datetime.date(2016, 7, 21), datetime.date(2016, 7, 22), datetime.date(2016, 7, 23), datetime.date(2016, 7, 24), datetime.date(2016, 7, 25), datetime.date(2016, 7, 26), datetime.date(2016, 7, 27), datetime.date(2016, 7, 28), datetime.date(2016, 7, 29), datetime.date(2016, 7, 30), datetime.date(2016, 7, 31)]\n"
          ]
        }
      ]
    },
    {
      "cell_type": "markdown",
      "id": "4a64e059",
      "metadata": {
        "id": "4a64e059"
      },
      "source": [
        "#### 35. How to compute ((A+B)*(-A/2)) in place (without copy)? (★★☆)"
      ]
    },
    {
      "source": [
        "import numpy as np\n",
        "def compute_in_place(A, B):\n",
        "  A += B\n",
        "  A =-0.5\n",
        "  A /= 2\n",
        "  A *= -1\n",
        "  return A\n",
        "A = np.array([1, 2, 3])\n",
        "B = np.array([4, 5, 6])\n",
        "compute_in_place(A, B)\n",
        "print(A)"
      ],
      "cell_type": "code",
      "metadata": {
        "id": "WV1PaAS0h8GX",
        "outputId": "6fa5b382-1db1-4142-da99-177001372b58",
        "colab": {
          "base_uri": "https://localhost:8080/"
        }
      },
      "id": "WV1PaAS0h8GX",
      "execution_count": 12,
      "outputs": [
        {
          "output_type": "stream",
          "name": "stdout",
          "text": [
            "[5 7 9]\n"
          ]
        }
      ]
    },
    {
      "cell_type": "markdown",
      "id": "8a98c2a8",
      "metadata": {
        "id": "8a98c2a8"
      },
      "source": [
        "#### 36. Extract the integer part of a random array of positive numbers using 4 different methods (★★☆)"
      ]
    },
    {
      "source": [
        "import numpy as np\n",
        "random_array = np.random.rand(5) * 10\n",
        "integer_part1 = np.floor(random_array)\n",
        "integer_part2 = random_array.astype(int)\n",
        "integer_part3 = np.trunc(random_array)\n",
        "integer_part4 = np.array([int(x) for x in random_array])\n"
      ],
      "cell_type": "code",
      "metadata": {
        "id": "1VX4vqU1jaCW"
      },
      "id": "1VX4vqU1jaCW",
      "execution_count": 13,
      "outputs": []
    },
    {
      "cell_type": "markdown",
      "id": "5a2e3d85",
      "metadata": {
        "id": "5a2e3d85"
      },
      "source": [
        "#### 37. Create a 5x5 matrix with row values ranging from 0 to 4 (★★☆)"
      ]
    },
    {
      "source": [
        "import numpy as np\n",
        "\n",
        "matrix = np.tile(np.arange(5), (5, 1))"
      ],
      "cell_type": "code",
      "metadata": {
        "id": "iiXoSKjTj4L5"
      },
      "id": "iiXoSKjTj4L5",
      "execution_count": null,
      "outputs": []
    },
    {
      "cell_type": "markdown",
      "id": "9720e2d5",
      "metadata": {
        "id": "9720e2d5"
      },
      "source": [
        "#### 38. Consider a generator function that generates 10 integers and use it to build an array (★☆☆)"
      ]
    },
    {
      "source": [
        "import numpy as np\n",
        "\n",
        "def integer_generator():\n",
        "  for i in range(10):\n",
        "    yield i\n",
        "generator = integer_generator()\n",
        "array = np.fromiter(generator, dtype=int)"
      ],
      "cell_type": "code",
      "metadata": {
        "id": "fve7nKFWkCQC"
      },
      "id": "fve7nKFWkCQC",
      "execution_count": 14,
      "outputs": []
    },
    {
      "cell_type": "markdown",
      "id": "c6f2c912",
      "metadata": {
        "id": "c6f2c912"
      },
      "source": [
        "#### 39. Create a vector of size 10 with values ranging from 0 to 1, both excluded (★★☆)"
      ]
    },
    {
      "source": [
        "import numpy as np\n",
        "\n",
        "vector = np.linspace(0, 1, 11, endpoint=False)[1:]\n"
      ],
      "cell_type": "code",
      "metadata": {
        "id": "eBjkpJfRkQ0w"
      },
      "id": "eBjkpJfRkQ0w",
      "execution_count": null,
      "outputs": []
    },
    {
      "cell_type": "markdown",
      "id": "a36d6ee4",
      "metadata": {
        "id": "a36d6ee4"
      },
      "source": [
        "#### 40. Create a random vector of size 10 and sort it (★★☆)"
      ]
    },
    {
      "source": [
        "import numpy as np\n",
        "\n",
        "# Create a random vector of size 10\n",
        "random_vector = np.random.rand(10)\n",
        "\n",
        "# Sort the vector\n",
        "sorted_vector = np.sort(random_vector)"
      ],
      "cell_type": "code",
      "metadata": {
        "id": "Q3DFsNWKkZ1m"
      },
      "id": "Q3DFsNWKkZ1m",
      "execution_count": null,
      "outputs": []
    },
    {
      "cell_type": "markdown",
      "id": "0fb4ad68",
      "metadata": {
        "id": "0fb4ad68"
      },
      "source": [
        "#### 41. How to sum a small array faster than np.sum? (★★☆)"
      ]
    },
    {
      "source": [
        "import numpy as np\n",
        "\n",
        "small_array = np.arange(10)\n",
        "sum_result = sum(small_array)"
      ],
      "cell_type": "code",
      "metadata": {
        "id": "Ny0jhVP1kmTy"
      },
      "id": "Ny0jhVP1kmTy",
      "execution_count": 15,
      "outputs": []
    },
    {
      "cell_type": "markdown",
      "id": "024ac365",
      "metadata": {
        "id": "024ac365"
      },
      "source": [
        "#### 42. Consider two random array A and B, check if they are equal (★★☆)"
      ]
    },
    {
      "source": [
        "import numpy as np\n",
        "\n",
        "# Create two random arrays\n",
        "A = np.random.rand(5)\n",
        "B = np.random.rand(5)\n",
        "\n",
        "# Check if they are equal using np.array_equal\n",
        "are_equal = np.array_equal(A, B)\n",
        "\n"
      ],
      "cell_type": "code",
      "metadata": {
        "id": "XaCRnUGjk0yv"
      },
      "id": "XaCRnUGjk0yv",
      "execution_count": null,
      "outputs": []
    },
    {
      "cell_type": "markdown",
      "id": "c68d2401",
      "metadata": {
        "id": "c68d2401"
      },
      "source": [
        "#### 43. Make an array immutable (read-only) (★★☆)"
      ]
    },
    {
      "source": [
        "import numpy as np\n",
        "my_array = np.array([1, 2, 3, 4, 5])\n",
        "my_array.flags.writeable = False"
      ],
      "cell_type": "code",
      "metadata": {
        "id": "JUMGXnGrr5z9"
      },
      "id": "JUMGXnGrr5z9",
      "execution_count": 16,
      "outputs": []
    },
    {
      "cell_type": "markdown",
      "id": "55df6280",
      "metadata": {
        "id": "55df6280"
      },
      "source": [
        "#### 44. Consider a random 10x2 matrix representing cartesian coordinates, convert them to polar coordinates (★★☆)"
      ]
    },
    {
      "source": [
        "import numpy as np\n",
        "cartesian_coords = np.random.rand(10, 2)\n",
        "x = cartesian_coords[:, 0]\n",
        "y = cartesian_coords[:, 1]\n",
        "rho = np.sqrt(x**2 + y**2)  # Radial distance\n",
        "phi = np.arctan2(y, x)  # Angle (in radians)\n",
        "polar_coords = np.column_stack((rho, phi))"
      ],
      "cell_type": "code",
      "metadata": {
        "id": "xu-QzvSGsE5O"
      },
      "id": "xu-QzvSGsE5O",
      "execution_count": 17,
      "outputs": []
    },
    {
      "cell_type": "markdown",
      "id": "2f60f1ec",
      "metadata": {
        "id": "2f60f1ec"
      },
      "source": [
        "#### 45. Create random vector of size 10 and replace the maximum value by 0 (★★☆)"
      ]
    },
    {
      "source": [
        "import numpy as np\n",
        "random_vector = np.random.rand(10)\n",
        "max_index = np.argmax(random_vector)\n",
        "random_vector[max_index] = 0"
      ],
      "cell_type": "code",
      "metadata": {
        "id": "Zu2BejXqsSro"
      },
      "id": "Zu2BejXqsSro",
      "execution_count": 19,
      "outputs": []
    },
    {
      "cell_type": "markdown",
      "id": "084e8ad4",
      "metadata": {
        "id": "084e8ad4"
      },
      "source": [
        "#### 46. Create a structured array with `x` and `y` coordinates covering the [0,1]x[0,1] area (★★☆)"
      ]
    },
    {
      "source": [
        "import numpy as np\n",
        "n = 10\n",
        "x, y = np.meshgrid(np.linspace(0, 1, n), np.linspace(0, 1, n))\n",
        "structured_array = np.zeros((n, n), dtype=[('x', float), ('y', float)])\n",
        "structured_array['x'] = x\n",
        "structured_array['y'] = y"
      ],
      "cell_type": "code",
      "metadata": {
        "id": "vzdsvp_Qsgvy"
      },
      "id": "vzdsvp_Qsgvy",
      "execution_count": 18,
      "outputs": []
    },
    {
      "cell_type": "markdown",
      "id": "d7b9bc42",
      "metadata": {
        "id": "d7b9bc42"
      },
      "source": [
        "#### 47. Given two arrays, X and Y, construct the Cauchy matrix C (Cij =1/(xi - yj)) (★★☆)"
      ]
    },
    {
      "source": [
        "import numpy as np\n",
        "\n",
        "def cauchy_matrix(X, Y):\n",
        "  X = X[:, np.newaxis]\n",
        "  diff_matrix = X - Y\n",
        "  diff_matrix[diff_matrix == 0] = np.finfo(diff_matrix.dtype).eps\n",
        "  cauchy_matrix = 1.0 / diff_matrix\n",
        "  return cauchy_matrix"
      ],
      "cell_type": "code",
      "metadata": {
        "id": "1y3act1ktPFp"
      },
      "id": "1y3act1ktPFp",
      "execution_count": null,
      "outputs": []
    },
    {
      "cell_type": "markdown",
      "id": "65ebc11b",
      "metadata": {
        "id": "65ebc11b"
      },
      "source": [
        "#### 48. Print the minimum and maximum representable value for each numpy scalar type (★★☆)"
      ]
    },
    {
      "source": [
        "import numpy as np\n",
        "scalar_types = [np.int8, np.int16, np.int32, np.int64,\n",
        "                np.uint8, np.uint16, np.uint32, np.uint64,\n",
        "                np.float16, np.float32, np.float64,\n",
        "                np.complex64, np.complex128]\n",
        "for dtype in scalar_types:\n",
        "  print(f\"{dtype.__name__}:\")\n",
        "  print(f\"  Minimum: {np.iinfo(dtype).min if 'int' in dtype.__name__ else np.finfo(dtype).min}\")\n",
        "  print(f\"  Maximum: {np.iinfo(dtype).max if 'int' in dtype.__name__ else np.finfo(dtype).max}\")\n",
        "  print()\n"
      ],
      "cell_type": "code",
      "metadata": {
        "id": "qIR_lZ0Ktjyl",
        "outputId": "b80be01a-2e47-4c9a-c853-3d75da002944",
        "colab": {
          "base_uri": "https://localhost:8080/"
        }
      },
      "id": "qIR_lZ0Ktjyl",
      "execution_count": 20,
      "outputs": [
        {
          "output_type": "stream",
          "name": "stdout",
          "text": [
            "int8:\n",
            "  Minimum: -128\n",
            "  Maximum: 127\n",
            "\n",
            "int16:\n",
            "  Minimum: -32768\n",
            "  Maximum: 32767\n",
            "\n",
            "int32:\n",
            "  Minimum: -2147483648\n",
            "  Maximum: 2147483647\n",
            "\n",
            "int64:\n",
            "  Minimum: -9223372036854775808\n",
            "  Maximum: 9223372036854775807\n",
            "\n",
            "uint8:\n",
            "  Minimum: 0\n",
            "  Maximum: 255\n",
            "\n",
            "uint16:\n",
            "  Minimum: 0\n",
            "  Maximum: 65535\n",
            "\n",
            "uint32:\n",
            "  Minimum: 0\n",
            "  Maximum: 4294967295\n",
            "\n",
            "uint64:\n",
            "  Minimum: 0\n",
            "  Maximum: 18446744073709551615\n",
            "\n",
            "float16:\n",
            "  Minimum: -65504.0\n",
            "  Maximum: 65504.0\n",
            "\n",
            "float32:\n",
            "  Minimum: -3.4028234663852886e+38\n",
            "  Maximum: 3.4028234663852886e+38\n",
            "\n",
            "float64:\n",
            "  Minimum: -1.7976931348623157e+308\n",
            "  Maximum: 1.7976931348623157e+308\n",
            "\n",
            "complex64:\n",
            "  Minimum: -3.4028234663852886e+38\n",
            "  Maximum: 3.4028234663852886e+38\n",
            "\n",
            "complex128:\n",
            "  Minimum: -1.7976931348623157e+308\n",
            "  Maximum: 1.7976931348623157e+308\n",
            "\n"
          ]
        }
      ]
    },
    {
      "cell_type": "markdown",
      "id": "9b317a98",
      "metadata": {
        "id": "9b317a98"
      },
      "source": [
        "#### 49. How to print all the values of an array? (★★☆)"
      ]
    },
    {
      "source": [
        "import numpy as np\n",
        "my_array = np.array([1, 2, 3, 4, 5])\n",
        "print(my_array)"
      ],
      "cell_type": "code",
      "metadata": {
        "id": "_z_73JQNtxNC",
        "outputId": "9ed789e4-3343-45cf-d570-7a5e4cbfc186",
        "colab": {
          "base_uri": "https://localhost:8080/"
        }
      },
      "id": "_z_73JQNtxNC",
      "execution_count": 21,
      "outputs": [
        {
          "output_type": "stream",
          "name": "stdout",
          "text": [
            "[1 2 3 4 5]\n"
          ]
        }
      ]
    },
    {
      "cell_type": "markdown",
      "id": "b580f9d0",
      "metadata": {
        "id": "b580f9d0"
      },
      "source": [
        "#### 50. How to find the closest value (to a given scalar) in a vector? (★★☆)"
      ]
    },
    {
      "source": [
        "import numpy as np\n",
        "\n",
        "def find_closest_value(vector, scalar):\n",
        "  index = (np.abs(vector - scalar)).argmin()\n",
        "  return vector[index]\n",
        "my_vector = np.array([1, 2, 3, 4, 5])\n",
        "my_scalar = 2.7\n",
        "closest_value = find_closest_value(my_vector, my_scalar)"
      ],
      "cell_type": "code",
      "metadata": {
        "id": "mK3wtWEOt5M0"
      },
      "id": "mK3wtWEOt5M0",
      "execution_count": 22,
      "outputs": []
    },
    {
      "cell_type": "markdown",
      "id": "602e6252",
      "metadata": {
        "id": "602e6252"
      },
      "source": [
        "#### 51. Create a structured array representing a position (x,y) and a color (r,g,b) (★★☆)"
      ]
    },
    {
      "source": [
        "import numpy as np\n",
        "dtype = [('position', [('x', float), ('y', float)]),\n",
        "         ('color', [('r', int), ('g', int), ('b', int)\n",
        "structured_array = np.zeros(10, dtype=dtype)"
      ],
      "cell_type": "code",
      "metadata": {
        "id": "LtIzIbDRu0Vh"
      },
      "id": "LtIzIbDRu0Vh",
      "execution_count": null,
      "outputs": []
    },
    {
      "cell_type": "markdown",
      "id": "78bcd92f",
      "metadata": {
        "id": "78bcd92f"
      },
      "source": [
        "#### 52. Consider a random vector with shape (100,2) representing coordinates, find point by point distances (★★☆)"
      ]
    },
    {
      "source": [
        "import numpy as np\n",
        "coordinates = np.random.rand(100, 2)\n",
        "x = coordinates[:, 0, np.newaxis]\n",
        "y = coordinates[:, 1, np.newaxis]\n",
        "distances = np.sqrt((x - x.T)**2 + (y - y.T)**2)"
      ],
      "cell_type": "code",
      "metadata": {
        "id": "8FOvpCSAvODo"
      },
      "id": "8FOvpCSAvODo",
      "execution_count": null,
      "outputs": []
    },
    {
      "cell_type": "markdown",
      "id": "343c5a85",
      "metadata": {
        "id": "343c5a85"
      },
      "source": [
        "#### 53. How to convert a float (32 bits) array into an integer (32 bits) in place?"
      ]
    },
    {
      "source": [
        "import numpy as np\n",
        "float_array = np.array([1.2, 3.5, 0.7, 2.8, 9.1], dtype=np.float32)\n",
        "float_array.astype(np.int32, copy=False)"
      ],
      "cell_type": "code",
      "metadata": {
        "id": "Qlz4-9Z-vhxw",
        "outputId": "4fb23a80-af94-495a-a336-6ec0b7335496",
        "colab": {
          "base_uri": "https://localhost:8080/"
        }
      },
      "id": "Qlz4-9Z-vhxw",
      "execution_count": 25,
      "outputs": [
        {
          "output_type": "execute_result",
          "data": {
            "text/plain": [
              "array([1, 3, 0, 2, 9], dtype=int32)"
            ]
          },
          "metadata": {},
          "execution_count": 25
        }
      ]
    },
    {
      "cell_type": "markdown",
      "id": "a69e1ace",
      "metadata": {
        "id": "a69e1ace"
      },
      "source": [
        "#### 54. How to read the following file? (★★☆)\n",
        "```\n",
        "1, 2, 3, 4, 5\n",
        "6,  ,  , 7, 8\n",
        " ,  , 9,10,11\n",
        "```"
      ]
    },
    {
      "cell_type": "markdown",
      "id": "2153a5ec",
      "metadata": {
        "id": "2153a5ec"
      },
      "source": [
        "#### 56. Generate a generic 2D Gaussian-like array (★★☆)"
      ]
    },
    {
      "source": [
        "import numpy as np\n",
        "\n",
        "def generate_2d_gaussian_array(shape, center, sigma):\n",
        "  x, y = np.indices(shape)\n",
        "  exponent = -((x - center[0])**2 + (y - center[1])**2) / (2 * sigma**2)\n",
        "  gaussian_array = np.exp(exponent)\n",
        "  return gaussian_array\n",
        "shape = (100, 100)\n",
        "center = (50, 5)"
      ],
      "cell_type": "code",
      "metadata": {
        "id": "7rARbbM9yKZ_"
      },
      "id": "7rARbbM9yKZ_",
      "execution_count": 30,
      "outputs": []
    },
    {
      "cell_type": "markdown",
      "id": "2e76d589",
      "metadata": {
        "id": "2e76d589"
      },
      "source": [
        "#### 57. How to randomly place p elements in a 2D array? (★★☆)"
      ]
    },
    {
      "source": [
        "import numpy as np\n",
        "\n",
        "def randomly_place_elements(array, p, element_value=1):\n",
        "  rows, cols = array.shape\n",
        "  indices = np.random.choice(rows * cols, size=p, replace=False)\n",
        "  row_indices = indices // cols\n",
        "  col_indices = indices % cols\n",
        "  array[row_indices, col_indices] = element_value\n",
        "my_array = np.zeros((5, 5))\n",
        "randomly_place_elements(my_array, 5)"
      ],
      "cell_type": "code",
      "metadata": {
        "id": "cJbaT6ebyewu"
      },
      "id": "cJbaT6ebyewu",
      "execution_count": 32,
      "outputs": []
    },
    {
      "cell_type": "markdown",
      "id": "8b3933eb",
      "metadata": {
        "id": "8b3933eb"
      },
      "source": [
        "#### 58. Subtract the mean of each row of a matrix (★★☆)"
      ]
    },
    {
      "source": [
        "import numpy as np\n",
        "def subtract_row_mean(matrix):\n",
        "  row_means = np.mean(matrix, axis=1, keepdims=True)\n",
        "  return matrix - row_means\n",
        "my_matrix = np.array([[1, 2, 3], [4, 5, 6], [7, 8, 9]])\n",
        "centered_matrix = subtract_row_mean(my_matrix)"
      ],
      "cell_type": "code",
      "metadata": {
        "id": "lV-C42nCyy2n"
      },
      "id": "lV-C42nCyy2n",
      "execution_count": 31,
      "outputs": []
    },
    {
      "cell_type": "markdown",
      "id": "ea8807c0",
      "metadata": {
        "id": "ea8807c0"
      },
      "source": [
        "#### 59. How to sort an array by the nth column? (★★☆)"
      ]
    },
    {
      "source": [
        "import numpy as np\n",
        "\n",
        "def sort_by_nth_column(array, column_index):\n",
        "  return array[array[:, column_index].argsort()]\n",
        "my_array = np.array([[1, 4, 2], [3, 1, 5], [2, 3, 0]])\n",
        "sorted_array = sort_by_nth_column(my_array, 1)"
      ],
      "cell_type": "code",
      "metadata": {
        "id": "TcRhsUmMzCOr"
      },
      "id": "TcRhsUmMzCOr",
      "execution_count": 35,
      "outputs": []
    },
    {
      "cell_type": "markdown",
      "id": "00fa00a1",
      "metadata": {
        "id": "00fa00a1"
      },
      "source": [
        "#### 60. How to tell if a given 2D array has null columns? (★★☆)"
      ]
    },
    {
      "source": [
        "import numpy as np\n",
        "\n",
        "def has_null_columns(array):\n",
        "  return (array == 0).all(axis=0).any()\n",
        "my_array = np.array([[1, 0, 2], [0, 0, 0], [3, 0, 4]])\n",
        "has_null_cols = has_null_columns(my_array)"
      ],
      "cell_type": "code",
      "metadata": {
        "id": "IhgV_ySXzQVC"
      },
      "id": "IhgV_ySXzQVC",
      "execution_count": 34,
      "outputs": []
    },
    {
      "cell_type": "markdown",
      "id": "5a65c7a2",
      "metadata": {
        "id": "5a65c7a2"
      },
      "source": [
        "#### 61. Find the nearest value from a given value in an array (★★☆)"
      ]
    },
    {
      "source": [
        "import numpy as np\n",
        "\n",
        "def find_nearest_value(array, value):\n",
        "  index = (np.abs(array - value)).argmin()\n",
        "  return array[index]\n",
        "my_array = np.array([1, 2, 3, 4, 5])\n",
        "my_value = 2.7\n",
        "nearest_value = find_nearest_value(my_array, my_value)"
      ],
      "cell_type": "code",
      "metadata": {
        "id": "SLVpeNvXzgCG"
      },
      "id": "SLVpeNvXzgCG",
      "execution_count": 33,
      "outputs": []
    },
    {
      "cell_type": "markdown",
      "id": "dd83e8af",
      "metadata": {
        "id": "dd83e8af"
      },
      "source": [
        "#### 62. Considering two arrays with shape (1,3) and (3,1), how to compute their sum using an iterator? (★★☆)"
      ]
    },
    {
      "source": [
        "import numpy as np\n",
        "\n",
        "def sum_with_iterator(array1, array2):\n",
        "  it1 = np.nditer(array1)\n",
        "  it2 = np.nditer(array2)\n",
        "  result = []\n",
        "  for x, y in zip(it1, it2):\n",
        "    result.append(x + y)\n",
        "  return np.array(result).reshape(array1.shape[0], array2.shape[1])\n",
        "array1 = np.array([[1, 2, 3]])\n",
        "array2 = np.array([[4], [5], [6]])\n",
        "sum_array = sum_with_iterator(array1, array2)"
      ],
      "cell_type": "code",
      "metadata": {
        "id": "pmlxApyPz1MQ",
        "outputId": "379f1d06-e45e-4e1f-b076-1b8b4b06c4f0",
        "colab": {
          "base_uri": "https://localhost:8080/",
          "height": 297
        }
      },
      "id": "pmlxApyPz1MQ",
      "execution_count": 38,
      "outputs": [
        {
          "output_type": "error",
          "ename": "ValueError",
          "evalue": "cannot reshape array of size 3 into shape (1,1)",
          "traceback": [
            "\u001b[0;31m---------------------------------------------------------------------------\u001b[0m",
            "\u001b[0;31mValueError\u001b[0m                                Traceback (most recent call last)",
            "\u001b[0;32m<ipython-input-38-984d6665a1c5>\u001b[0m in \u001b[0;36m<cell line: 12>\u001b[0;34m()\u001b[0m\n\u001b[1;32m     10\u001b[0m \u001b[0marray1\u001b[0m \u001b[0;34m=\u001b[0m \u001b[0mnp\u001b[0m\u001b[0;34m.\u001b[0m\u001b[0marray\u001b[0m\u001b[0;34m(\u001b[0m\u001b[0;34m[\u001b[0m\u001b[0;34m[\u001b[0m\u001b[0;36m1\u001b[0m\u001b[0;34m,\u001b[0m \u001b[0;36m2\u001b[0m\u001b[0;34m,\u001b[0m \u001b[0;36m3\u001b[0m\u001b[0;34m]\u001b[0m\u001b[0;34m]\u001b[0m\u001b[0;34m)\u001b[0m\u001b[0;34m\u001b[0m\u001b[0;34m\u001b[0m\u001b[0m\n\u001b[1;32m     11\u001b[0m \u001b[0marray2\u001b[0m \u001b[0;34m=\u001b[0m \u001b[0mnp\u001b[0m\u001b[0;34m.\u001b[0m\u001b[0marray\u001b[0m\u001b[0;34m(\u001b[0m\u001b[0;34m[\u001b[0m\u001b[0;34m[\u001b[0m\u001b[0;36m4\u001b[0m\u001b[0;34m]\u001b[0m\u001b[0;34m,\u001b[0m \u001b[0;34m[\u001b[0m\u001b[0;36m5\u001b[0m\u001b[0;34m]\u001b[0m\u001b[0;34m,\u001b[0m \u001b[0;34m[\u001b[0m\u001b[0;36m6\u001b[0m\u001b[0;34m]\u001b[0m\u001b[0;34m]\u001b[0m\u001b[0;34m)\u001b[0m\u001b[0;34m\u001b[0m\u001b[0;34m\u001b[0m\u001b[0m\n\u001b[0;32m---> 12\u001b[0;31m \u001b[0msum_array\u001b[0m \u001b[0;34m=\u001b[0m \u001b[0msum_with_iterator\u001b[0m\u001b[0;34m(\u001b[0m\u001b[0marray1\u001b[0m\u001b[0;34m,\u001b[0m \u001b[0marray2\u001b[0m\u001b[0;34m)\u001b[0m\u001b[0;34m\u001b[0m\u001b[0;34m\u001b[0m\u001b[0m\n\u001b[0m",
            "\u001b[0;32m<ipython-input-38-984d6665a1c5>\u001b[0m in \u001b[0;36msum_with_iterator\u001b[0;34m(array1, array2)\u001b[0m\n\u001b[1;32m      7\u001b[0m   \u001b[0;32mfor\u001b[0m \u001b[0mx\u001b[0m\u001b[0;34m,\u001b[0m \u001b[0my\u001b[0m \u001b[0;32min\u001b[0m \u001b[0mzip\u001b[0m\u001b[0;34m(\u001b[0m\u001b[0mit1\u001b[0m\u001b[0;34m,\u001b[0m \u001b[0mit2\u001b[0m\u001b[0;34m)\u001b[0m\u001b[0;34m:\u001b[0m\u001b[0;34m\u001b[0m\u001b[0;34m\u001b[0m\u001b[0m\n\u001b[1;32m      8\u001b[0m     \u001b[0mresult\u001b[0m\u001b[0;34m.\u001b[0m\u001b[0mappend\u001b[0m\u001b[0;34m(\u001b[0m\u001b[0mx\u001b[0m \u001b[0;34m+\u001b[0m \u001b[0my\u001b[0m\u001b[0;34m)\u001b[0m\u001b[0;34m\u001b[0m\u001b[0;34m\u001b[0m\u001b[0m\n\u001b[0;32m----> 9\u001b[0;31m   \u001b[0;32mreturn\u001b[0m \u001b[0mnp\u001b[0m\u001b[0;34m.\u001b[0m\u001b[0marray\u001b[0m\u001b[0;34m(\u001b[0m\u001b[0mresult\u001b[0m\u001b[0;34m)\u001b[0m\u001b[0;34m.\u001b[0m\u001b[0mreshape\u001b[0m\u001b[0;34m(\u001b[0m\u001b[0marray1\u001b[0m\u001b[0;34m.\u001b[0m\u001b[0mshape\u001b[0m\u001b[0;34m[\u001b[0m\u001b[0;36m0\u001b[0m\u001b[0;34m]\u001b[0m\u001b[0;34m,\u001b[0m \u001b[0marray2\u001b[0m\u001b[0;34m.\u001b[0m\u001b[0mshape\u001b[0m\u001b[0;34m[\u001b[0m\u001b[0;36m1\u001b[0m\u001b[0;34m]\u001b[0m\u001b[0;34m)\u001b[0m\u001b[0;34m\u001b[0m\u001b[0;34m\u001b[0m\u001b[0m\n\u001b[0m\u001b[1;32m     10\u001b[0m \u001b[0marray1\u001b[0m \u001b[0;34m=\u001b[0m \u001b[0mnp\u001b[0m\u001b[0;34m.\u001b[0m\u001b[0marray\u001b[0m\u001b[0;34m(\u001b[0m\u001b[0;34m[\u001b[0m\u001b[0;34m[\u001b[0m\u001b[0;36m1\u001b[0m\u001b[0;34m,\u001b[0m \u001b[0;36m2\u001b[0m\u001b[0;34m,\u001b[0m \u001b[0;36m3\u001b[0m\u001b[0;34m]\u001b[0m\u001b[0;34m]\u001b[0m\u001b[0;34m)\u001b[0m\u001b[0;34m\u001b[0m\u001b[0;34m\u001b[0m\u001b[0m\n\u001b[1;32m     11\u001b[0m \u001b[0marray2\u001b[0m \u001b[0;34m=\u001b[0m \u001b[0mnp\u001b[0m\u001b[0;34m.\u001b[0m\u001b[0marray\u001b[0m\u001b[0;34m(\u001b[0m\u001b[0;34m[\u001b[0m\u001b[0;34m[\u001b[0m\u001b[0;36m4\u001b[0m\u001b[0;34m]\u001b[0m\u001b[0;34m,\u001b[0m \u001b[0;34m[\u001b[0m\u001b[0;36m5\u001b[0m\u001b[0;34m]\u001b[0m\u001b[0;34m,\u001b[0m \u001b[0;34m[\u001b[0m\u001b[0;36m6\u001b[0m\u001b[0;34m]\u001b[0m\u001b[0;34m]\u001b[0m\u001b[0;34m)\u001b[0m\u001b[0;34m\u001b[0m\u001b[0;34m\u001b[0m\u001b[0m\n",
            "\u001b[0;31mValueError\u001b[0m: cannot reshape array of size 3 into shape (1,1)"
          ]
        }
      ]
    },
    {
      "cell_type": "markdown",
      "id": "6c042efa",
      "metadata": {
        "id": "6c042efa"
      },
      "source": [
        "#### 63. Create an array class that has a name attribute (★★☆)"
      ]
    },
    {
      "cell_type": "code",
      "execution_count": null,
      "id": "45b3d2e0",
      "metadata": {
        "id": "45b3d2e0"
      },
      "outputs": [],
      "source": []
    },
    {
      "cell_type": "markdown",
      "id": "0a075c3d",
      "metadata": {
        "id": "0a075c3d"
      },
      "source": [
        "#### 64. Consider a given vector, how to add 1 to each element indexed by a second vector (be careful with repeated indices)? (★★★)"
      ]
    },
    {
      "cell_type": "code",
      "execution_count": null,
      "id": "36c50470",
      "metadata": {
        "id": "36c50470"
      },
      "outputs": [],
      "source": []
    },
    {
      "cell_type": "markdown",
      "id": "0fb2f0c5",
      "metadata": {
        "id": "0fb2f0c5"
      },
      "source": [
        "#### 65. How to accumulate elements of a vector (X) to an array (F) based on an index list (I)? (★★★)"
      ]
    },
    {
      "cell_type": "code",
      "execution_count": null,
      "id": "58aa5f82",
      "metadata": {
        "id": "58aa5f82"
      },
      "outputs": [],
      "source": []
    },
    {
      "cell_type": "markdown",
      "id": "d89dc506",
      "metadata": {
        "id": "d89dc506"
      },
      "source": [
        "#### 66. Considering a (w,h,3) image of (dtype=ubyte), compute the number of unique colors (★★☆)"
      ]
    },
    {
      "cell_type": "code",
      "execution_count": null,
      "id": "8fb43a49",
      "metadata": {
        "id": "8fb43a49"
      },
      "outputs": [],
      "source": []
    },
    {
      "cell_type": "markdown",
      "id": "535a5d81",
      "metadata": {
        "id": "535a5d81"
      },
      "source": [
        "#### 67. Considering a four dimensions array, how to get sum over the last two axis at once? (★★★)"
      ]
    },
    {
      "cell_type": "code",
      "execution_count": null,
      "id": "f954ab9d",
      "metadata": {
        "id": "f954ab9d"
      },
      "outputs": [],
      "source": []
    },
    {
      "cell_type": "markdown",
      "id": "eee66d3c",
      "metadata": {
        "id": "eee66d3c"
      },
      "source": [
        "#### 68. Considering a one-dimensional vector D, how to compute means of subsets of D using a vector S of same size describing subset  indices? (★★★)"
      ]
    },
    {
      "cell_type": "code",
      "execution_count": null,
      "id": "8929773a",
      "metadata": {
        "id": "8929773a"
      },
      "outputs": [],
      "source": []
    },
    {
      "cell_type": "markdown",
      "id": "f90d4c40",
      "metadata": {
        "id": "f90d4c40"
      },
      "source": [
        "#### 69. How to get the diagonal of a dot product? (★★★)"
      ]
    },
    {
      "cell_type": "code",
      "execution_count": null,
      "id": "b47d392d",
      "metadata": {
        "id": "b47d392d"
      },
      "outputs": [],
      "source": []
    },
    {
      "cell_type": "markdown",
      "id": "a8a97e7d",
      "metadata": {
        "id": "a8a97e7d"
      },
      "source": [
        "#### 70. Consider the vector [1, 2, 3, 4, 5], how to build a new vector with 3 consecutive zeros interleaved between each value? (★★★)"
      ]
    },
    {
      "cell_type": "code",
      "execution_count": null,
      "id": "ee6c6c37",
      "metadata": {
        "id": "ee6c6c37"
      },
      "outputs": [],
      "source": []
    },
    {
      "cell_type": "markdown",
      "id": "d6a30d60",
      "metadata": {
        "id": "d6a30d60"
      },
      "source": [
        "#### 71. Consider an array of dimension (5,5,3), how to mulitply it by an array with dimensions (5,5)? (★★★)"
      ]
    },
    {
      "cell_type": "code",
      "execution_count": null,
      "id": "e9703f2e",
      "metadata": {
        "id": "e9703f2e"
      },
      "outputs": [],
      "source": []
    },
    {
      "cell_type": "markdown",
      "id": "bac359a9",
      "metadata": {
        "id": "bac359a9"
      },
      "source": [
        "#### 72. How to swap two rows of an array? (★★★)"
      ]
    },
    {
      "cell_type": "code",
      "execution_count": null,
      "id": "f1b432b1",
      "metadata": {
        "id": "f1b432b1"
      },
      "outputs": [],
      "source": []
    },
    {
      "cell_type": "markdown",
      "id": "620c9f83",
      "metadata": {
        "id": "620c9f83"
      },
      "source": [
        "#### 73. Consider a set of 10 triplets describing 10 triangles (with shared vertices), find the set of unique line segments composing all the  triangles (★★★)"
      ]
    },
    {
      "cell_type": "code",
      "execution_count": null,
      "id": "4e595ffc",
      "metadata": {
        "id": "4e595ffc"
      },
      "outputs": [],
      "source": []
    },
    {
      "cell_type": "markdown",
      "id": "a76c55a2",
      "metadata": {
        "id": "a76c55a2"
      },
      "source": [
        "#### 74. Given a sorted array C that corresponds to a bincount, how to produce an array A such that np.bincount(A) == C? (★★★)"
      ]
    },
    {
      "cell_type": "code",
      "execution_count": null,
      "id": "2d2ae65a",
      "metadata": {
        "id": "2d2ae65a"
      },
      "outputs": [],
      "source": []
    },
    {
      "cell_type": "markdown",
      "id": "d550c8e2",
      "metadata": {
        "id": "d550c8e2"
      },
      "source": [
        "#### 75. How to compute averages using a sliding window over an array? (★★★)"
      ]
    },
    {
      "cell_type": "code",
      "execution_count": null,
      "id": "841c457c",
      "metadata": {
        "id": "841c457c"
      },
      "outputs": [],
      "source": []
    },
    {
      "cell_type": "markdown",
      "id": "6b170b00",
      "metadata": {
        "id": "6b170b00"
      },
      "source": [
        "#### 76. Consider a one-dimensional array Z, build a two-dimensional array whose first row is (Z[0],Z[1],Z[2]) and each subsequent row is  shifted by 1 (last row should be (Z[-3],Z[-2],Z[-1]) (★★★)"
      ]
    },
    {
      "cell_type": "code",
      "execution_count": null,
      "id": "d9a0cf4e",
      "metadata": {
        "id": "d9a0cf4e"
      },
      "outputs": [],
      "source": []
    },
    {
      "cell_type": "markdown",
      "id": "e94a5c1d",
      "metadata": {
        "id": "e94a5c1d"
      },
      "source": [
        "#### 77. How to negate a boolean, or to change the sign of a float inplace? (★★★)"
      ]
    },
    {
      "cell_type": "code",
      "execution_count": null,
      "id": "c0f9504f",
      "metadata": {
        "id": "c0f9504f"
      },
      "outputs": [],
      "source": []
    },
    {
      "cell_type": "markdown",
      "id": "4eb8b5c1",
      "metadata": {
        "id": "4eb8b5c1"
      },
      "source": [
        "#### 78. Consider 2 sets of points P0,P1 describing lines (2d) and a point p, how to compute distance from p to each line i (P0[i],P1[i])? (★★★)"
      ]
    },
    {
      "cell_type": "code",
      "execution_count": null,
      "id": "487f47ec",
      "metadata": {
        "id": "487f47ec"
      },
      "outputs": [],
      "source": []
    },
    {
      "cell_type": "markdown",
      "id": "3df99948",
      "metadata": {
        "id": "3df99948"
      },
      "source": [
        "#### 79. Consider 2 sets of points P0,P1 describing lines (2d) and a set of points P, how to compute distance from each point j (P[j]) to each line i (P0[i],P1[i])? (★★★)"
      ]
    },
    {
      "cell_type": "code",
      "execution_count": null,
      "id": "dc2df37b",
      "metadata": {
        "id": "dc2df37b"
      },
      "outputs": [],
      "source": []
    },
    {
      "cell_type": "markdown",
      "id": "11e972c2",
      "metadata": {
        "id": "11e972c2"
      },
      "source": [
        "#### 80. Consider an arbitrary array, write a function that extract a subpart with a fixed shape and centered on a given element (pad with a `fill` value when necessary) (★★★)"
      ]
    },
    {
      "cell_type": "code",
      "execution_count": null,
      "id": "0291247f",
      "metadata": {
        "id": "0291247f"
      },
      "outputs": [],
      "source": []
    },
    {
      "cell_type": "markdown",
      "id": "93cfeab3",
      "metadata": {
        "id": "93cfeab3"
      },
      "source": [
        "#### 81. Consider an array Z = [1,2,3,4,5,6,7,8,9,10,11,12,13,14], how to generate an array R = [[1,2,3,4], [2,3,4,5], [3,4,5,6], ..., [11,12,13,14]]? (★★★)"
      ]
    },
    {
      "cell_type": "code",
      "execution_count": null,
      "id": "360de791",
      "metadata": {
        "id": "360de791"
      },
      "outputs": [],
      "source": []
    },
    {
      "cell_type": "markdown",
      "id": "4c15ceff",
      "metadata": {
        "id": "4c15ceff"
      },
      "source": [
        "#### 82. Compute a matrix rank (★★★)"
      ]
    },
    {
      "cell_type": "code",
      "execution_count": null,
      "id": "9a4272d2",
      "metadata": {
        "id": "9a4272d2"
      },
      "outputs": [],
      "source": []
    },
    {
      "cell_type": "markdown",
      "id": "1171cb84",
      "metadata": {
        "id": "1171cb84"
      },
      "source": [
        "#### 83. How to find the most frequent value in an array?"
      ]
    },
    {
      "cell_type": "code",
      "execution_count": null,
      "id": "33e951c8",
      "metadata": {
        "id": "33e951c8"
      },
      "outputs": [],
      "source": []
    },
    {
      "cell_type": "markdown",
      "id": "04f472aa",
      "metadata": {
        "id": "04f472aa"
      },
      "source": [
        "#### 84. Extract all the contiguous 3x3 blocks from a random 10x10 matrix (★★★)"
      ]
    },
    {
      "cell_type": "code",
      "execution_count": null,
      "id": "7aade14a",
      "metadata": {
        "id": "7aade14a"
      },
      "outputs": [],
      "source": []
    },
    {
      "cell_type": "markdown",
      "id": "52836346",
      "metadata": {
        "id": "52836346"
      },
      "source": [
        "#### 85. Create a 2D array subclass such that Z[i,j] == Z[j,i] (★★★)"
      ]
    },
    {
      "cell_type": "code",
      "execution_count": null,
      "id": "4df70318",
      "metadata": {
        "id": "4df70318"
      },
      "outputs": [],
      "source": []
    },
    {
      "cell_type": "markdown",
      "id": "78c43ee5",
      "metadata": {
        "id": "78c43ee5"
      },
      "source": [
        "#### 86. Consider a set of p matrices with shape (n,n) and a set of p vectors with shape (n,1). How to compute the sum of of the p matrix products at once? (result has shape (n,1)) (★★★)"
      ]
    },
    {
      "cell_type": "code",
      "execution_count": null,
      "id": "32fd2c3b",
      "metadata": {
        "id": "32fd2c3b"
      },
      "outputs": [],
      "source": []
    },
    {
      "cell_type": "markdown",
      "id": "158f9945",
      "metadata": {
        "id": "158f9945"
      },
      "source": [
        "#### 87. Consider a 16x16 array, how to get the block-sum (block size is 4x4)? (★★★)"
      ]
    },
    {
      "cell_type": "code",
      "execution_count": null,
      "id": "5a9b808f",
      "metadata": {
        "id": "5a9b808f"
      },
      "outputs": [],
      "source": []
    },
    {
      "cell_type": "markdown",
      "id": "2e0ad860",
      "metadata": {
        "id": "2e0ad860"
      },
      "source": [
        "#### 88. How to implement the Game of Life using numpy arrays? (★★★)"
      ]
    },
    {
      "cell_type": "code",
      "execution_count": null,
      "id": "574acff5",
      "metadata": {
        "id": "574acff5"
      },
      "outputs": [],
      "source": []
    },
    {
      "cell_type": "markdown",
      "id": "69a892fa",
      "metadata": {
        "id": "69a892fa"
      },
      "source": [
        "#### 89. How to get the n largest values of an array (★★★)"
      ]
    },
    {
      "cell_type": "code",
      "execution_count": null,
      "id": "21b2bd48",
      "metadata": {
        "id": "21b2bd48"
      },
      "outputs": [],
      "source": []
    },
    {
      "cell_type": "markdown",
      "id": "b55ccacc",
      "metadata": {
        "id": "b55ccacc"
      },
      "source": [
        "#### 90. Given an arbitrary number of vectors, build the cartesian product (every combinations of every item) (★★★)"
      ]
    },
    {
      "cell_type": "code",
      "execution_count": null,
      "id": "4b645da4",
      "metadata": {
        "id": "4b645da4"
      },
      "outputs": [],
      "source": []
    },
    {
      "cell_type": "markdown",
      "id": "89187a23",
      "metadata": {
        "id": "89187a23"
      },
      "source": [
        "#### 91. How to create a record array from a regular array? (★★★)"
      ]
    },
    {
      "cell_type": "code",
      "execution_count": null,
      "id": "da94c71a",
      "metadata": {
        "id": "da94c71a"
      },
      "outputs": [],
      "source": []
    },
    {
      "cell_type": "markdown",
      "id": "aa70d4ca",
      "metadata": {
        "id": "aa70d4ca"
      },
      "source": [
        "#### 92. Consider a large vector Z, compute Z to the power of 3 using 3 different methods (★★★)"
      ]
    },
    {
      "cell_type": "code",
      "execution_count": null,
      "id": "7cff1bf5",
      "metadata": {
        "id": "7cff1bf5"
      },
      "outputs": [],
      "source": []
    },
    {
      "cell_type": "markdown",
      "id": "5f79dd00",
      "metadata": {
        "id": "5f79dd00"
      },
      "source": [
        "#### 93. Consider two arrays A and B of shape (8,3) and (2,2). How to find rows of A that contain elements of each row of B regardless of the order of the elements in B? (★★★)"
      ]
    },
    {
      "cell_type": "code",
      "execution_count": null,
      "id": "20c105b2",
      "metadata": {
        "id": "20c105b2"
      },
      "outputs": [],
      "source": []
    },
    {
      "cell_type": "markdown",
      "id": "a80570cd",
      "metadata": {
        "id": "a80570cd"
      },
      "source": [
        "#### 94. Considering a 10x3 matrix, extract rows with unequal values (e.g. [2,2,3]) (★★★)"
      ]
    },
    {
      "cell_type": "code",
      "execution_count": null,
      "id": "84db8de1",
      "metadata": {
        "id": "84db8de1"
      },
      "outputs": [],
      "source": []
    },
    {
      "cell_type": "markdown",
      "id": "ba154f43",
      "metadata": {
        "id": "ba154f43"
      },
      "source": [
        "#### 95. Convert a vector of ints into a matrix binary representation (★★★)"
      ]
    },
    {
      "cell_type": "code",
      "execution_count": null,
      "id": "cfa96e1b",
      "metadata": {
        "id": "cfa96e1b"
      },
      "outputs": [],
      "source": []
    },
    {
      "cell_type": "markdown",
      "id": "420e2343",
      "metadata": {
        "id": "420e2343"
      },
      "source": [
        "#### 96. Given a two dimensional array, how to extract unique rows? (★★★)"
      ]
    },
    {
      "cell_type": "code",
      "execution_count": null,
      "id": "4680dfd0",
      "metadata": {
        "id": "4680dfd0"
      },
      "outputs": [],
      "source": []
    },
    {
      "cell_type": "markdown",
      "id": "89fef2f3",
      "metadata": {
        "id": "89fef2f3"
      },
      "source": [
        "#### 97. Considering 2 vectors A & B, write the einsum equivalent of inner, outer, sum, and mul function (★★★)"
      ]
    },
    {
      "cell_type": "code",
      "execution_count": null,
      "id": "bb9c14b2",
      "metadata": {
        "id": "bb9c14b2"
      },
      "outputs": [],
      "source": []
    },
    {
      "cell_type": "markdown",
      "id": "7ad5cc5f",
      "metadata": {
        "id": "7ad5cc5f"
      },
      "source": [
        "#### 98. Considering a path described by two vectors (X,Y), how to sample it using equidistant samples (★★★)?"
      ]
    },
    {
      "cell_type": "code",
      "execution_count": null,
      "id": "0899d1d5",
      "metadata": {
        "id": "0899d1d5"
      },
      "outputs": [],
      "source": []
    },
    {
      "cell_type": "markdown",
      "id": "2b69272e",
      "metadata": {
        "id": "2b69272e"
      },
      "source": [
        "#### 99. Given an integer n and a 2D array X, select from X the rows which can be interpreted as draws from a multinomial distribution with n degrees, i.e., the rows which only contain integers and which sum to n. (★★★)"
      ]
    },
    {
      "cell_type": "code",
      "execution_count": null,
      "id": "55c8b034",
      "metadata": {
        "id": "55c8b034"
      },
      "outputs": [],
      "source": []
    },
    {
      "cell_type": "markdown",
      "id": "59ab5516",
      "metadata": {
        "id": "59ab5516"
      },
      "source": [
        "#### 100. Compute bootstrapped 95% confidence intervals for the mean of a 1D array X (i.e., resample the elements of an array with replacement N times, compute the mean of each sample, and then compute percentiles over the means). (★★★)"
      ]
    },
    {
      "cell_type": "code",
      "execution_count": null,
      "id": "450877d8",
      "metadata": {
        "id": "450877d8"
      },
      "outputs": [],
      "source": []
    }
  ],
  "metadata": {
    "colab": {
      "provenance": [],
      "include_colab_link": true
    },
    "language_info": {
      "name": "python"
    },
    "kernelspec": {
      "name": "python3",
      "display_name": "Python 3"
    }
  },
  "nbformat": 4,
  "nbformat_minor": 5
}